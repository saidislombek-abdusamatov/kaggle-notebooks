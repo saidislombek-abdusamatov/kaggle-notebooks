{
 "cells": [
  {
   "cell_type": "markdown",
   "id": "f4cb0e25",
   "metadata": {
    "papermill": {
     "duration": 0.012474,
     "end_time": "2023-05-07T04:35:15.432110",
     "exception": false,
     "start_time": "2023-05-07T04:35:15.419636",
     "status": "completed"
    },
    "tags": []
   },
   "source": [
    "# <center> 🚢Titanic - CatBoostClassifier📈 </center>"
   ]
  },
  {
   "cell_type": "markdown",
   "id": "75abe654",
   "metadata": {
    "papermill": {
     "duration": 0.011888,
     "end_time": "2023-05-07T04:35:15.456249",
     "exception": false,
     "start_time": "2023-05-07T04:35:15.444361",
     "status": "completed"
    },
    "tags": []
   },
   "source": [
    "<a id=\"ToC\"></a>\n",
    "# Table of Contents\n",
    "- [1. Introduction](#1)\n",
    "- [2. Imports](#2)\n",
    "- [3. EDA](#3)\n",
    "    - [3.1 Survived pie plot](#3.1)\n",
    "    - [3.2 Some columns count plot](#3.2)\n",
    "    - [3.3 Gender count plot ](#3.3)\n",
    "    - [3.4 Age & Survived kdeplot](#3.4)\n",
    "    - [3.5 Heatmap](#3.5)\n",
    "- [4. Data Processing (columns)](#4)\n",
    "    - [4.1 Name](#4.1)\n",
    "    - [4.2 Age](#4.2)\n",
    "    - [4.3 Ticket](#4.3)\n",
    "    - [4.4 Cabin](#4.4)\n",
    "    - [4.5 new -> Relatives](#4.5)\n",
    "- [5. Model](#5)    \n",
    "- [6. Evaluation](#6)\n",
    "    - [6.1 Classification report](#6.1)\n",
    "    - [6.2 Confusion matrix](#6.2)\n",
    "    - [6.3 ROC curve](#6.3)\n",
    "    - [6.4 Feature importance](#6.4)\n",
    "    - [6.5 Accuracy score](#6.5)\n",
    "- [7. Submission](#7)"
   ]
  },
  {
   "cell_type": "markdown",
   "id": "43b7444b",
   "metadata": {
    "papermill": {
     "duration": 0.011742,
     "end_time": "2023-05-07T04:35:15.480127",
     "exception": false,
     "start_time": "2023-05-07T04:35:15.468385",
     "status": "completed"
    },
    "tags": []
   },
   "source": [
    "<a id=\"1\"></a>\n",
    "# **<div style=\"padding:10px;color:white;display:fill;border-radius:5px;background-color:#5642C5;font-size:120%;font-family:Verdana;\"><center><span> Introduction </span></center></div>**"
   ]
  },
  {
   "cell_type": "markdown",
   "id": "613aeb6e",
   "metadata": {
    "papermill": {
     "duration": 0.012139,
     "end_time": "2023-05-07T04:35:15.504448",
     "exception": false,
     "start_time": "2023-05-07T04:35:15.492309",
     "status": "completed"
    },
    "tags": []
   },
   "source": [
    "![titanic](https://www.rmg.co.uk/sites/default/files/styles/full_width_1440/public/Atlantic%20liner%20%27Titanic%27%20%28Br%2C%201912%29%20sinking%2C%20bow%20first%2C%201912%2C%20with%20eight%20full%20lifeboats%20nearby%20and%20an%20iceberg%20in%20the%20distance_banner.jpg?itok=fQV6kN3z)"
   ]
  },
  {
   "cell_type": "markdown",
   "id": "25a2a536",
   "metadata": {
    "papermill": {
     "duration": 0.011797,
     "end_time": "2023-05-07T04:35:15.529006",
     "exception": false,
     "start_time": "2023-05-07T04:35:15.517209",
     "status": "completed"
    },
    "tags": []
   },
   "source": [
    "### About Challenge\n",
    "\n",
    "The sinking of the Titanic is one of the most infamous shipwrecks in history.\n",
    "\n",
    "**On April 15, 1912**, during her maiden voyage, the widely considered “unsinkable” RMS Titanic sank after colliding with an iceberg. Unfortunately, there weren’t enough lifeboats for everyone onboard, resulting in the death of **1502** out of **2224** passengers and crew.\n",
    "\n",
    "While there was some element of luck involved in surviving, it seems some groups of people were more likely to survive than others.\n",
    "\n",
    "In this challenge, we ask you to build a predictive model that answers the question: “what sorts of people were more likely to survive?” using passenger data (ie name, age, gender, socio-economic class, etc)."
   ]
  },
  {
   "cell_type": "markdown",
   "id": "ba258183",
   "metadata": {
    "papermill": {
     "duration": 0.011889,
     "end_time": "2023-05-07T04:35:15.553000",
     "exception": false,
     "start_time": "2023-05-07T04:35:15.541111",
     "status": "completed"
    },
    "tags": []
   },
   "source": [
    "### **About Dataset**\n",
    "\n",
    "The data has been split into two groups:\n",
    "\n",
    " - training set (train.csv)\n",
    " - test set (test.csv)\n",
    " \n",
    "**The training set** should be used to build your machine learning models. For the training set, we provide the outcome (also known as the “ground truth”) for each passenger. Your model will be based on “features” like passengers’ gender and class. You can also use feature engineering to create new features.\n",
    "\n",
    "**The test set** should be used to see how well your model performs on unseen data. For the test set, we do not provide the ground truth for each passenger. It is your job to predict these outcomes. For each passenger in the test set, use the model you trained to predict whether or not they survived the sinking of the Titanic."
   ]
  },
  {
   "cell_type": "markdown",
   "id": "9803abb8",
   "metadata": {
    "papermill": {
     "duration": 0.01185,
     "end_time": "2023-05-07T04:35:15.576938",
     "exception": false,
     "start_time": "2023-05-07T04:35:15.565088",
     "status": "completed"
    },
    "tags": []
   },
   "source": [
    "## 1. Introduction to CatBoost\n",
    "\n",
    " - CatBoost documentation says that-\n",
    "\"CatBoost is a high-performance open source library for gradient boosting on decision trees.\"\"\n",
    "\n",
    " - So, CatBoost is an algorithm for gradient boosting on decision trees.\n",
    " - It is a readymade classifier in scikit-learn’s conventions terms that would deal with categorical features automatically.\n",
    " - It can easily integrate with deep learning frameworks like Google’s TensorFlow and Apple’s Core ML.\n",
    " - It can work with diverse data types to help solve a wide range of problems (described later) that businesses face today.\n",
    " - It is developed by Yandex researchers and engineers, and is used for search, recommendation systems, personal assistant, self-driving cars, weather prediction and many other tasks.\n",
    " - Also, it provides best-in-class accuracy."
   ]
  },
  {
   "cell_type": "markdown",
   "id": "bf0df458",
   "metadata": {
    "papermill": {
     "duration": 0.011567,
     "end_time": "2023-05-07T04:35:15.600988",
     "exception": false,
     "start_time": "2023-05-07T04:35:15.589421",
     "status": "completed"
    },
    "tags": []
   },
   "source": [
    "<a href=\"#ToC\" role=\"button\" aria-pressed=\"true\" >⬆️Back to Table of Contents ⬆️</a>"
   ]
  },
  {
   "cell_type": "markdown",
   "id": "cc2c2264",
   "metadata": {
    "papermill": {
     "duration": 0.012028,
     "end_time": "2023-05-07T04:35:15.624905",
     "exception": false,
     "start_time": "2023-05-07T04:35:15.612877",
     "status": "completed"
    },
    "tags": []
   },
   "source": [
    "<a id=\"2\"></a>\n",
    "# **<div style=\"padding:10px;color:white;display:fill;border-radius:5px;background-color:#5642C5;font-size:120%;font-family:Verdana;\"><center><span> Imports </span></center></div>**"
   ]
  },
  {
   "cell_type": "code",
   "execution_count": 1,
   "id": "90a91531",
   "metadata": {
    "_cell_guid": "b1076dfc-b9ad-4769-8c92-a6c4dae69d19",
    "_uuid": "8f2839f25d086af736a60e9eeb907d3b93b6e0e5",
    "execution": {
     "iopub.execute_input": "2023-05-07T04:35:15.650934Z",
     "iopub.status.busy": "2023-05-07T04:35:15.650313Z",
     "iopub.status.idle": "2023-05-07T04:35:17.510218Z",
     "shell.execute_reply": "2023-05-07T04:35:17.509312Z"
    },
    "papermill": {
     "duration": 1.875842,
     "end_time": "2023-05-07T04:35:17.512656",
     "exception": false,
     "start_time": "2023-05-07T04:35:15.636814",
     "status": "completed"
    },
    "tags": []
   },
   "outputs": [
    {
     "name": "stderr",
     "output_type": "stream",
     "text": [
      "/opt/conda/lib/python3.10/site-packages/scipy/__init__.py:146: UserWarning: A NumPy version >=1.16.5 and <1.23.0 is required for this version of SciPy (detected version 1.23.5\n",
      "  warnings.warn(f\"A NumPy version >={np_minversion} and <{np_maxversion}\"\n"
     ]
    }
   ],
   "source": [
    "# common\n",
    "import pandas as pd\n",
    "import numpy as np\n",
    "\n",
    "# visualization\n",
    "import matplotlib.pyplot as plt\n",
    "import seaborn as sns\n",
    "\n",
    "# data processing\n",
    "from sklearn.model_selection import train_test_split\n",
    "\n",
    "# model\n",
    "from catboost import CatBoostClassifier, Pool\n",
    "\n",
    "# metrics\n",
    "from sklearn.metrics import *"
   ]
  },
  {
   "cell_type": "markdown",
   "id": "7985b3af",
   "metadata": {
    "papermill": {
     "duration": 0.012062,
     "end_time": "2023-05-07T04:35:17.537259",
     "exception": false,
     "start_time": "2023-05-07T04:35:17.525197",
     "status": "completed"
    },
    "tags": []
   },
   "source": [
    "## <span style=\"color:#08bf2c;\"> Data review </span>"
   ]
  },
  {
   "cell_type": "code",
   "execution_count": 2,
   "id": "e1d21337",
   "metadata": {
    "_kg_hide-input": true,
    "execution": {
     "iopub.execute_input": "2023-05-07T04:35:17.563460Z",
     "iopub.status.busy": "2023-05-07T04:35:17.563070Z",
     "iopub.status.idle": "2023-05-07T04:35:17.612573Z",
     "shell.execute_reply": "2023-05-07T04:35:17.611478Z"
    },
    "jupyter": {
     "source_hidden": true
    },
    "papermill": {
     "duration": 0.065575,
     "end_time": "2023-05-07T04:35:17.615099",
     "exception": false,
     "start_time": "2023-05-07T04:35:17.549524",
     "status": "completed"
    },
    "tags": []
   },
   "outputs": [],
   "source": [
    "train = pd.read_csv(\"/kaggle/input/titanic/train.csv\", index_col=0)\n",
    "test = pd.read_csv('/kaggle/input/titanic/test.csv', index_col=0)\n",
    "submission = pd.read_csv('/kaggle/input/titanic/gender_submission.csv', index_col=0)"
   ]
  },
  {
   "cell_type": "markdown",
   "id": "d7493ede",
   "metadata": {
    "papermill": {
     "duration": 0.012058,
     "end_time": "2023-05-07T04:35:17.639489",
     "exception": false,
     "start_time": "2023-05-07T04:35:17.627431",
     "status": "completed"
    },
    "tags": []
   },
   "source": [
    "### <span style=\"color:#2981d9;\"> Train data </span>"
   ]
  },
  {
   "cell_type": "code",
   "execution_count": 3,
   "id": "089b7fc3",
   "metadata": {
    "_kg_hide-input": true,
    "execution": {
     "iopub.execute_input": "2023-05-07T04:35:17.665523Z",
     "iopub.status.busy": "2023-05-07T04:35:17.665139Z",
     "iopub.status.idle": "2023-05-07T04:35:17.694374Z",
     "shell.execute_reply": "2023-05-07T04:35:17.693625Z"
    },
    "jupyter": {
     "source_hidden": true
    },
    "papermill": {
     "duration": 0.044482,
     "end_time": "2023-05-07T04:35:17.696221",
     "exception": false,
     "start_time": "2023-05-07T04:35:17.651739",
     "status": "completed"
    },
    "tags": []
   },
   "outputs": [
    {
     "data": {
      "text/html": [
       "<div>\n",
       "<style scoped>\n",
       "    .dataframe tbody tr th:only-of-type {\n",
       "        vertical-align: middle;\n",
       "    }\n",
       "\n",
       "    .dataframe tbody tr th {\n",
       "        vertical-align: top;\n",
       "    }\n",
       "\n",
       "    .dataframe thead th {\n",
       "        text-align: right;\n",
       "    }\n",
       "</style>\n",
       "<table border=\"1\" class=\"dataframe\">\n",
       "  <thead>\n",
       "    <tr style=\"text-align: right;\">\n",
       "      <th></th>\n",
       "      <th>Survived</th>\n",
       "      <th>Pclass</th>\n",
       "      <th>Name</th>\n",
       "      <th>Sex</th>\n",
       "      <th>Age</th>\n",
       "      <th>SibSp</th>\n",
       "      <th>Parch</th>\n",
       "      <th>Ticket</th>\n",
       "      <th>Fare</th>\n",
       "      <th>Cabin</th>\n",
       "      <th>Embarked</th>\n",
       "    </tr>\n",
       "    <tr>\n",
       "      <th>PassengerId</th>\n",
       "      <th></th>\n",
       "      <th></th>\n",
       "      <th></th>\n",
       "      <th></th>\n",
       "      <th></th>\n",
       "      <th></th>\n",
       "      <th></th>\n",
       "      <th></th>\n",
       "      <th></th>\n",
       "      <th></th>\n",
       "      <th></th>\n",
       "    </tr>\n",
       "  </thead>\n",
       "  <tbody>\n",
       "    <tr>\n",
       "      <th>1</th>\n",
       "      <td>0</td>\n",
       "      <td>3</td>\n",
       "      <td>Braund, Mr. Owen Harris</td>\n",
       "      <td>male</td>\n",
       "      <td>22.0</td>\n",
       "      <td>1</td>\n",
       "      <td>0</td>\n",
       "      <td>A/5 21171</td>\n",
       "      <td>7.2500</td>\n",
       "      <td>NaN</td>\n",
       "      <td>S</td>\n",
       "    </tr>\n",
       "    <tr>\n",
       "      <th>2</th>\n",
       "      <td>1</td>\n",
       "      <td>1</td>\n",
       "      <td>Cumings, Mrs. John Bradley (Florence Briggs Th...</td>\n",
       "      <td>female</td>\n",
       "      <td>38.0</td>\n",
       "      <td>1</td>\n",
       "      <td>0</td>\n",
       "      <td>PC 17599</td>\n",
       "      <td>71.2833</td>\n",
       "      <td>C85</td>\n",
       "      <td>C</td>\n",
       "    </tr>\n",
       "    <tr>\n",
       "      <th>3</th>\n",
       "      <td>1</td>\n",
       "      <td>3</td>\n",
       "      <td>Heikkinen, Miss. Laina</td>\n",
       "      <td>female</td>\n",
       "      <td>26.0</td>\n",
       "      <td>0</td>\n",
       "      <td>0</td>\n",
       "      <td>STON/O2. 3101282</td>\n",
       "      <td>7.9250</td>\n",
       "      <td>NaN</td>\n",
       "      <td>S</td>\n",
       "    </tr>\n",
       "    <tr>\n",
       "      <th>4</th>\n",
       "      <td>1</td>\n",
       "      <td>1</td>\n",
       "      <td>Futrelle, Mrs. Jacques Heath (Lily May Peel)</td>\n",
       "      <td>female</td>\n",
       "      <td>35.0</td>\n",
       "      <td>1</td>\n",
       "      <td>0</td>\n",
       "      <td>113803</td>\n",
       "      <td>53.1000</td>\n",
       "      <td>C123</td>\n",
       "      <td>S</td>\n",
       "    </tr>\n",
       "    <tr>\n",
       "      <th>5</th>\n",
       "      <td>0</td>\n",
       "      <td>3</td>\n",
       "      <td>Allen, Mr. William Henry</td>\n",
       "      <td>male</td>\n",
       "      <td>35.0</td>\n",
       "      <td>0</td>\n",
       "      <td>0</td>\n",
       "      <td>373450</td>\n",
       "      <td>8.0500</td>\n",
       "      <td>NaN</td>\n",
       "      <td>S</td>\n",
       "    </tr>\n",
       "  </tbody>\n",
       "</table>\n",
       "</div>"
      ],
      "text/plain": [
       "             Survived  Pclass  \\\n",
       "PassengerId                     \n",
       "1                   0       3   \n",
       "2                   1       1   \n",
       "3                   1       3   \n",
       "4                   1       1   \n",
       "5                   0       3   \n",
       "\n",
       "                                                          Name     Sex   Age  \\\n",
       "PassengerId                                                                    \n",
       "1                                      Braund, Mr. Owen Harris    male  22.0   \n",
       "2            Cumings, Mrs. John Bradley (Florence Briggs Th...  female  38.0   \n",
       "3                                       Heikkinen, Miss. Laina  female  26.0   \n",
       "4                 Futrelle, Mrs. Jacques Heath (Lily May Peel)  female  35.0   \n",
       "5                                     Allen, Mr. William Henry    male  35.0   \n",
       "\n",
       "             SibSp  Parch            Ticket     Fare Cabin Embarked  \n",
       "PassengerId                                                          \n",
       "1                1      0         A/5 21171   7.2500   NaN        S  \n",
       "2                1      0          PC 17599  71.2833   C85        C  \n",
       "3                0      0  STON/O2. 3101282   7.9250   NaN        S  \n",
       "4                1      0            113803  53.1000  C123        S  \n",
       "5                0      0            373450   8.0500   NaN        S  "
      ]
     },
     "execution_count": 3,
     "metadata": {},
     "output_type": "execute_result"
    }
   ],
   "source": [
    "train.head()"
   ]
  },
  {
   "cell_type": "code",
   "execution_count": 4,
   "id": "aed59d66",
   "metadata": {
    "_kg_hide-input": true,
    "execution": {
     "iopub.execute_input": "2023-05-07T04:35:17.723375Z",
     "iopub.status.busy": "2023-05-07T04:35:17.722659Z",
     "iopub.status.idle": "2023-05-07T04:35:17.742157Z",
     "shell.execute_reply": "2023-05-07T04:35:17.740904Z"
    },
    "jupyter": {
     "source_hidden": true
    },
    "papermill": {
     "duration": 0.035471,
     "end_time": "2023-05-07T04:35:17.744345",
     "exception": false,
     "start_time": "2023-05-07T04:35:17.708874",
     "status": "completed"
    },
    "tags": []
   },
   "outputs": [
    {
     "name": "stdout",
     "output_type": "stream",
     "text": [
      "<class 'pandas.core.frame.DataFrame'>\n",
      "Int64Index: 891 entries, 1 to 891\n",
      "Data columns (total 11 columns):\n",
      " #   Column    Non-Null Count  Dtype  \n",
      "---  ------    --------------  -----  \n",
      " 0   Survived  891 non-null    int64  \n",
      " 1   Pclass    891 non-null    int64  \n",
      " 2   Name      891 non-null    object \n",
      " 3   Sex       891 non-null    object \n",
      " 4   Age       714 non-null    float64\n",
      " 5   SibSp     891 non-null    int64  \n",
      " 6   Parch     891 non-null    int64  \n",
      " 7   Ticket    891 non-null    object \n",
      " 8   Fare      891 non-null    float64\n",
      " 9   Cabin     204 non-null    object \n",
      " 10  Embarked  889 non-null    object \n",
      "dtypes: float64(2), int64(4), object(5)\n",
      "memory usage: 83.5+ KB\n"
     ]
    }
   ],
   "source": [
    "train.info()"
   ]
  },
  {
   "cell_type": "markdown",
   "id": "e94dbb60",
   "metadata": {
    "papermill": {
     "duration": 0.012375,
     "end_time": "2023-05-07T04:35:17.769770",
     "exception": false,
     "start_time": "2023-05-07T04:35:17.757395",
     "status": "completed"
    },
    "tags": []
   },
   "source": [
    "### <span style=\"color:#2981d9;\"> Test data </span>"
   ]
  },
  {
   "cell_type": "code",
   "execution_count": 5,
   "id": "c24b3c3f",
   "metadata": {
    "_kg_hide-input": true,
    "execution": {
     "iopub.execute_input": "2023-05-07T04:35:17.797622Z",
     "iopub.status.busy": "2023-05-07T04:35:17.796633Z",
     "iopub.status.idle": "2023-05-07T04:35:17.811723Z",
     "shell.execute_reply": "2023-05-07T04:35:17.810797Z"
    },
    "jupyter": {
     "source_hidden": true
    },
    "papermill": {
     "duration": 0.03129,
     "end_time": "2023-05-07T04:35:17.813748",
     "exception": false,
     "start_time": "2023-05-07T04:35:17.782458",
     "status": "completed"
    },
    "tags": []
   },
   "outputs": [
    {
     "data": {
      "text/html": [
       "<div>\n",
       "<style scoped>\n",
       "    .dataframe tbody tr th:only-of-type {\n",
       "        vertical-align: middle;\n",
       "    }\n",
       "\n",
       "    .dataframe tbody tr th {\n",
       "        vertical-align: top;\n",
       "    }\n",
       "\n",
       "    .dataframe thead th {\n",
       "        text-align: right;\n",
       "    }\n",
       "</style>\n",
       "<table border=\"1\" class=\"dataframe\">\n",
       "  <thead>\n",
       "    <tr style=\"text-align: right;\">\n",
       "      <th></th>\n",
       "      <th>Pclass</th>\n",
       "      <th>Name</th>\n",
       "      <th>Sex</th>\n",
       "      <th>Age</th>\n",
       "      <th>SibSp</th>\n",
       "      <th>Parch</th>\n",
       "      <th>Ticket</th>\n",
       "      <th>Fare</th>\n",
       "      <th>Cabin</th>\n",
       "      <th>Embarked</th>\n",
       "    </tr>\n",
       "    <tr>\n",
       "      <th>PassengerId</th>\n",
       "      <th></th>\n",
       "      <th></th>\n",
       "      <th></th>\n",
       "      <th></th>\n",
       "      <th></th>\n",
       "      <th></th>\n",
       "      <th></th>\n",
       "      <th></th>\n",
       "      <th></th>\n",
       "      <th></th>\n",
       "    </tr>\n",
       "  </thead>\n",
       "  <tbody>\n",
       "    <tr>\n",
       "      <th>892</th>\n",
       "      <td>3</td>\n",
       "      <td>Kelly, Mr. James</td>\n",
       "      <td>male</td>\n",
       "      <td>34.5</td>\n",
       "      <td>0</td>\n",
       "      <td>0</td>\n",
       "      <td>330911</td>\n",
       "      <td>7.8292</td>\n",
       "      <td>NaN</td>\n",
       "      <td>Q</td>\n",
       "    </tr>\n",
       "    <tr>\n",
       "      <th>893</th>\n",
       "      <td>3</td>\n",
       "      <td>Wilkes, Mrs. James (Ellen Needs)</td>\n",
       "      <td>female</td>\n",
       "      <td>47.0</td>\n",
       "      <td>1</td>\n",
       "      <td>0</td>\n",
       "      <td>363272</td>\n",
       "      <td>7.0000</td>\n",
       "      <td>NaN</td>\n",
       "      <td>S</td>\n",
       "    </tr>\n",
       "    <tr>\n",
       "      <th>894</th>\n",
       "      <td>2</td>\n",
       "      <td>Myles, Mr. Thomas Francis</td>\n",
       "      <td>male</td>\n",
       "      <td>62.0</td>\n",
       "      <td>0</td>\n",
       "      <td>0</td>\n",
       "      <td>240276</td>\n",
       "      <td>9.6875</td>\n",
       "      <td>NaN</td>\n",
       "      <td>Q</td>\n",
       "    </tr>\n",
       "    <tr>\n",
       "      <th>895</th>\n",
       "      <td>3</td>\n",
       "      <td>Wirz, Mr. Albert</td>\n",
       "      <td>male</td>\n",
       "      <td>27.0</td>\n",
       "      <td>0</td>\n",
       "      <td>0</td>\n",
       "      <td>315154</td>\n",
       "      <td>8.6625</td>\n",
       "      <td>NaN</td>\n",
       "      <td>S</td>\n",
       "    </tr>\n",
       "    <tr>\n",
       "      <th>896</th>\n",
       "      <td>3</td>\n",
       "      <td>Hirvonen, Mrs. Alexander (Helga E Lindqvist)</td>\n",
       "      <td>female</td>\n",
       "      <td>22.0</td>\n",
       "      <td>1</td>\n",
       "      <td>1</td>\n",
       "      <td>3101298</td>\n",
       "      <td>12.2875</td>\n",
       "      <td>NaN</td>\n",
       "      <td>S</td>\n",
       "    </tr>\n",
       "  </tbody>\n",
       "</table>\n",
       "</div>"
      ],
      "text/plain": [
       "             Pclass                                          Name     Sex  \\\n",
       "PassengerId                                                                 \n",
       "892               3                              Kelly, Mr. James    male   \n",
       "893               3              Wilkes, Mrs. James (Ellen Needs)  female   \n",
       "894               2                     Myles, Mr. Thomas Francis    male   \n",
       "895               3                              Wirz, Mr. Albert    male   \n",
       "896               3  Hirvonen, Mrs. Alexander (Helga E Lindqvist)  female   \n",
       "\n",
       "              Age  SibSp  Parch   Ticket     Fare Cabin Embarked  \n",
       "PassengerId                                                       \n",
       "892          34.5      0      0   330911   7.8292   NaN        Q  \n",
       "893          47.0      1      0   363272   7.0000   NaN        S  \n",
       "894          62.0      0      0   240276   9.6875   NaN        Q  \n",
       "895          27.0      0      0   315154   8.6625   NaN        S  \n",
       "896          22.0      1      1  3101298  12.2875   NaN        S  "
      ]
     },
     "execution_count": 5,
     "metadata": {},
     "output_type": "execute_result"
    }
   ],
   "source": [
    "test.head()"
   ]
  },
  {
   "cell_type": "code",
   "execution_count": 6,
   "id": "4ba4ca40",
   "metadata": {
    "_kg_hide-input": true,
    "execution": {
     "iopub.execute_input": "2023-05-07T04:35:17.841283Z",
     "iopub.status.busy": "2023-05-07T04:35:17.840894Z",
     "iopub.status.idle": "2023-05-07T04:35:17.852757Z",
     "shell.execute_reply": "2023-05-07T04:35:17.851692Z"
    },
    "jupyter": {
     "source_hidden": true
    },
    "papermill": {
     "duration": 0.028256,
     "end_time": "2023-05-07T04:35:17.854913",
     "exception": false,
     "start_time": "2023-05-07T04:35:17.826657",
     "status": "completed"
    },
    "tags": []
   },
   "outputs": [
    {
     "name": "stdout",
     "output_type": "stream",
     "text": [
      "<class 'pandas.core.frame.DataFrame'>\n",
      "Int64Index: 418 entries, 892 to 1309\n",
      "Data columns (total 10 columns):\n",
      " #   Column    Non-Null Count  Dtype  \n",
      "---  ------    --------------  -----  \n",
      " 0   Pclass    418 non-null    int64  \n",
      " 1   Name      418 non-null    object \n",
      " 2   Sex       418 non-null    object \n",
      " 3   Age       332 non-null    float64\n",
      " 4   SibSp     418 non-null    int64  \n",
      " 5   Parch     418 non-null    int64  \n",
      " 6   Ticket    418 non-null    object \n",
      " 7   Fare      417 non-null    float64\n",
      " 8   Cabin     91 non-null     object \n",
      " 9   Embarked  418 non-null    object \n",
      "dtypes: float64(2), int64(3), object(5)\n",
      "memory usage: 35.9+ KB\n"
     ]
    }
   ],
   "source": [
    "test.info()"
   ]
  },
  {
   "cell_type": "markdown",
   "id": "c3d68787",
   "metadata": {
    "papermill": {
     "duration": 0.012841,
     "end_time": "2023-05-07T04:35:17.880747",
     "exception": false,
     "start_time": "2023-05-07T04:35:17.867906",
     "status": "completed"
    },
    "tags": []
   },
   "source": [
    "<a href=\"#ToC\" role=\"button\" aria-pressed=\"true\" >⬆️Back to Table of Contents ⬆️</a>"
   ]
  },
  {
   "cell_type": "markdown",
   "id": "fa163d5f",
   "metadata": {
    "papermill": {
     "duration": 0.012412,
     "end_time": "2023-05-07T04:35:17.906016",
     "exception": false,
     "start_time": "2023-05-07T04:35:17.893604",
     "status": "completed"
    },
    "tags": []
   },
   "source": [
    "<a id=\"3\"></a>\n",
    "# **<div style=\"padding:10px;color:white;display:fill;border-radius:5px;background-color:#5642C5;font-size:120%;font-family:Verdana;\"><center><span> EDA </span></center></div>**"
   ]
  },
  {
   "cell_type": "markdown",
   "id": "5304dc25",
   "metadata": {
    "papermill": {
     "duration": 0.013181,
     "end_time": "2023-05-07T04:35:17.931915",
     "exception": false,
     "start_time": "2023-05-07T04:35:17.918734",
     "status": "completed"
    },
    "tags": []
   },
   "source": [
    "<a id=\"3.1\"></a>\n",
    "## <span style=\"color:#08bf2c;\"> Survived pie plot </span>"
   ]
  },
  {
   "cell_type": "code",
   "execution_count": 7,
   "id": "8269ac50",
   "metadata": {
    "_kg_hide-input": true,
    "execution": {
     "iopub.execute_input": "2023-05-07T04:35:17.960911Z",
     "iopub.status.busy": "2023-05-07T04:35:17.960518Z",
     "iopub.status.idle": "2023-05-07T04:35:18.145893Z",
     "shell.execute_reply": "2023-05-07T04:35:18.144873Z"
    },
    "jupyter": {
     "source_hidden": true
    },
    "papermill": {
     "duration": 0.204161,
     "end_time": "2023-05-07T04:35:18.149674",
     "exception": false,
     "start_time": "2023-05-07T04:35:17.945513",
     "status": "completed"
    },
    "tags": []
   },
   "outputs": [
    {
     "data": {
      "image/png": "[encoded data removed]",
      "text/plain": [
       "<Figure size 700x700 with 1 Axes>"
      ]
     },
     "metadata": {},
     "output_type": "display_data"
    }
   ],
   "source": [
    "plt.figure(figsize=(7,7))\n",
    "total = train['Survived'].value_counts().values.sum()\n",
    "plt.pie(train['Survived'].value_counts().values, labels=train['Survived'].value_counts().index, autopct=lambda x: '{:.1f}%\\n{:.0f}'.format(x, total*x/100))\n",
    "plt.title('Survived')\n",
    "plt.show()"
   ]
  },
  {
   "cell_type": "markdown",
   "id": "30c5de0d",
   "metadata": {
    "papermill": {
     "duration": 0.013029,
     "end_time": "2023-05-07T04:35:18.188393",
     "exception": false,
     "start_time": "2023-05-07T04:35:18.175364",
     "status": "completed"
    },
    "tags": []
   },
   "source": [
    "<a id=\"3.2\"></a>\n",
    "## <span style=\"color:#08bf2c;\"> Some columns count plot </span>"
   ]
  },
  {
   "cell_type": "code",
   "execution_count": 8,
   "id": "bde11631",
   "metadata": {
    "_kg_hide-input": true,
    "execution": {
     "iopub.execute_input": "2023-05-07T04:35:18.217078Z",
     "iopub.status.busy": "2023-05-07T04:35:18.216724Z",
     "iopub.status.idle": "2023-05-07T04:35:18.995412Z",
     "shell.execute_reply": "2023-05-07T04:35:18.994352Z"
    },
    "jupyter": {
     "source_hidden": true
    },
    "papermill": {
     "duration": 0.795362,
     "end_time": "2023-05-07T04:35:18.997698",
     "exception": false,
     "start_time": "2023-05-07T04:35:18.202336",
     "status": "completed"
    },
    "tags": []
   },
   "outputs": [
    {
     "data": {
      "image/png": "[encoded data removed]",
      "text/plain": [
       "<Figure size 2000x1000 with 4 Axes>"
      ]
     },
     "metadata": {},
     "output_type": "display_data"
    }
   ],
   "source": [
    "fig, axes = plt.subplots(2,2, figsize=(20,10))\n",
    "\n",
    "sel_col = ['Pclass', 'SibSp', 'Parch', 'Embarked']\n",
    "\n",
    "for i in range(2):\n",
    "    for j in range(2):\n",
    "        sns.countplot(x=sel_col[i*2+j], hue='Survived', palette='viridis', data=train, ax=axes[i,j])\n",
    "\n",
    "plt.show()"
   ]
  },
  {
   "cell_type": "markdown",
   "id": "77e09b91",
   "metadata": {
    "papermill": {
     "duration": 0.014882,
     "end_time": "2023-05-07T04:35:19.026841",
     "exception": false,
     "start_time": "2023-05-07T04:35:19.011959",
     "status": "completed"
    },
    "tags": []
   },
   "source": [
    "<a id=\"3.3\"></a>\n",
    "## <span style=\"color:#08bf2c;\"> Gender count plot </span>"
   ]
  },
  {
   "cell_type": "code",
   "execution_count": 9,
   "id": "450e36ba",
   "metadata": {
    "_kg_hide-input": true,
    "execution": {
     "iopub.execute_input": "2023-05-07T04:35:19.056778Z",
     "iopub.status.busy": "2023-05-07T04:35:19.056368Z",
     "iopub.status.idle": "2023-05-07T04:35:19.299318Z",
     "shell.execute_reply": "2023-05-07T04:35:19.298146Z"
    },
    "jupyter": {
     "source_hidden": true
    },
    "papermill": {
     "duration": 0.260664,
     "end_time": "2023-05-07T04:35:19.301635",
     "exception": false,
     "start_time": "2023-05-07T04:35:19.040971",
     "status": "completed"
    },
    "tags": []
   },
   "outputs": [
    {
     "data": {
      "image/png": "[encoded data removed]",
      "text/plain": [
       "<Figure size 1500x700 with 1 Axes>"
      ]
     },
     "metadata": {},
     "output_type": "display_data"
    }
   ],
   "source": [
    "plt.figure(figsize=(15,7))\n",
    "sns.countplot(data=train, x='Sex', hue='Survived', palette='Set1')\n",
    "plt.show()"
   ]
  },
  {
   "cell_type": "markdown",
   "id": "77e6b189",
   "metadata": {
    "papermill": {
     "duration": 0.014312,
     "end_time": "2023-05-07T04:35:19.330546",
     "exception": false,
     "start_time": "2023-05-07T04:35:19.316234",
     "status": "completed"
    },
    "tags": []
   },
   "source": [
    "<a id=\"3.4\"></a>\n",
    "## <span style=\"color:#08bf2c;\"> Age & Survived kdeplot </span>"
   ]
  },
  {
   "cell_type": "code",
   "execution_count": 10,
   "id": "d4895315",
   "metadata": {
    "_kg_hide-input": true,
    "execution": {
     "iopub.execute_input": "2023-05-07T04:35:19.361525Z",
     "iopub.status.busy": "2023-05-07T04:35:19.361121Z",
     "iopub.status.idle": "2023-05-07T04:35:19.727200Z",
     "shell.execute_reply": "2023-05-07T04:35:19.726248Z"
    },
    "jupyter": {
     "source_hidden": true
    },
    "papermill": {
     "duration": 0.384352,
     "end_time": "2023-05-07T04:35:19.729563",
     "exception": false,
     "start_time": "2023-05-07T04:35:19.345211",
     "status": "completed"
    },
    "tags": []
   },
   "outputs": [
    {
     "data": {
      "image/png": "[encoded data removed]",
      "text/plain": [
       "<Figure size 2000x700 with 1 Axes>"
      ]
     },
     "metadata": {},
     "output_type": "display_data"
    }
   ],
   "source": [
    "plt.figure(figsize=(20,7))\n",
    "sns.kdeplot(data=train, x='Age', hue='Survived',fill=True, palette='Set2')\n",
    "plt.xticks(rotation=90)\n",
    "plt.show()"
   ]
  },
  {
   "cell_type": "markdown",
   "id": "756b3471",
   "metadata": {
    "papermill": {
     "duration": 0.01562,
     "end_time": "2023-05-07T04:35:19.761110",
     "exception": false,
     "start_time": "2023-05-07T04:35:19.745490",
     "status": "completed"
    },
    "tags": []
   },
   "source": [
    "<a id=\"3.5\"></a>\n",
    "## <span style=\"color:#08bf2c;\"> Heatmap </span>"
   ]
  },
  {
   "cell_type": "code",
   "execution_count": 11,
   "id": "212a75ae",
   "metadata": {
    "_kg_hide-input": true,
    "execution": {
     "iopub.execute_input": "2023-05-07T04:35:19.795631Z",
     "iopub.status.busy": "2023-05-07T04:35:19.794952Z",
     "iopub.status.idle": "2023-05-07T04:35:20.129676Z",
     "shell.execute_reply": "2023-05-07T04:35:20.128856Z"
    },
    "jupyter": {
     "source_hidden": true
    },
    "papermill": {
     "duration": 0.354588,
     "end_time": "2023-05-07T04:35:20.131656",
     "exception": false,
     "start_time": "2023-05-07T04:35:19.777068",
     "status": "completed"
    },
    "tags": []
   },
   "outputs": [
    {
     "data": {
      "image/png": "[encoded data removed]",
      "text/plain": [
       "<Figure size 1600x600 with 2 Axes>"
      ]
     },
     "metadata": {},
     "output_type": "display_data"
    }
   ],
   "source": [
    "df_m = train[['Parch','SibSp','Age']].groupby(['SibSp','Parch']).max().unstack(level=0)\n",
    "plt.figure(figsize=(16,6))\n",
    "sns.heatmap(data=df_m, cmap=\"YlGnBu\", linewidths=1, square=True)\n",
    "plt.xticks(np.arange(7) + .5, labels=[0,1,2,3,4,5,8])\n",
    "plt.xlabel('Sibling & Spouse')\n",
    "plt.show()"
   ]
  },
  {
   "cell_type": "markdown",
   "id": "746a568a",
   "metadata": {
    "papermill": {
     "duration": 0.015918,
     "end_time": "2023-05-07T04:35:20.163833",
     "exception": false,
     "start_time": "2023-05-07T04:35:20.147915",
     "status": "completed"
    },
    "tags": []
   },
   "source": [
    "<a href=\"#ToC\" role=\"button\" aria-pressed=\"true\" >⬆️Back to Table of Contents ⬆️</a>"
   ]
  },
  {
   "cell_type": "markdown",
   "id": "f1cccca9",
   "metadata": {
    "papermill": {
     "duration": 0.016119,
     "end_time": "2023-05-07T04:35:20.196414",
     "exception": false,
     "start_time": "2023-05-07T04:35:20.180295",
     "status": "completed"
    },
    "tags": []
   },
   "source": [
    "<a id=\"4\"></a>\n",
    "# **<div style=\"padding:10px;color:white;display:fill;border-radius:5px;background-color:#5642C5;font-size:120%;font-family:Verdana;\"><center><span> Data Processing </span></center></div>**"
   ]
  },
  {
   "cell_type": "code",
   "execution_count": 12,
   "id": "c29da17b",
   "metadata": {
    "execution": {
     "iopub.execute_input": "2023-05-07T04:35:20.230595Z",
     "iopub.status.busy": "2023-05-07T04:35:20.230211Z",
     "iopub.status.idle": "2023-05-07T04:35:20.248989Z",
     "shell.execute_reply": "2023-05-07T04:35:20.247373Z"
    },
    "papermill": {
     "duration": 0.038271,
     "end_time": "2023-05-07T04:35:20.251102",
     "exception": false,
     "start_time": "2023-05-07T04:35:20.212831",
     "status": "completed"
    },
    "tags": []
   },
   "outputs": [
    {
     "name": "stdout",
     "output_type": "stream",
     "text": [
      "<class 'pandas.core.frame.DataFrame'>\n",
      "Int64Index: 1309 entries, 1 to 1309\n",
      "Data columns (total 10 columns):\n",
      " #   Column    Non-Null Count  Dtype  \n",
      "---  ------    --------------  -----  \n",
      " 0   Pclass    1309 non-null   int64  \n",
      " 1   Name      1309 non-null   object \n",
      " 2   Sex       1309 non-null   object \n",
      " 3   Age       1046 non-null   float64\n",
      " 4   SibSp     1309 non-null   int64  \n",
      " 5   Parch     1309 non-null   int64  \n",
      " 6   Ticket    1309 non-null   object \n",
      " 7   Fare      1308 non-null   float64\n",
      " 8   Cabin     295 non-null    object \n",
      " 9   Embarked  1307 non-null   object \n",
      "dtypes: float64(2), int64(3), object(5)\n",
      "memory usage: 112.5+ KB\n"
     ]
    }
   ],
   "source": [
    "# data aggregation\n",
    "df = pd.concat([train.drop('Survived', axis=1),test])\n",
    "df.info()"
   ]
  },
  {
   "cell_type": "markdown",
   "id": "cd1d88e4",
   "metadata": {
    "papermill": {
     "duration": 0.015709,
     "end_time": "2023-05-07T04:35:20.283322",
     "exception": false,
     "start_time": "2023-05-07T04:35:20.267613",
     "status": "completed"
    },
    "tags": []
   },
   "source": [
    "<a id=\"4.1\"></a>\n",
    "## <span style=\"color:#08bf2c;\"> Name </span>"
   ]
  },
  {
   "cell_type": "code",
   "execution_count": 13,
   "id": "29faaff0",
   "metadata": {
    "execution": {
     "iopub.execute_input": "2023-05-07T04:35:20.317270Z",
     "iopub.status.busy": "2023-05-07T04:35:20.316839Z",
     "iopub.status.idle": "2023-05-07T04:35:20.337956Z",
     "shell.execute_reply": "2023-05-07T04:35:20.336856Z"
    },
    "papermill": {
     "duration": 0.041203,
     "end_time": "2023-05-07T04:35:20.340483",
     "exception": false,
     "start_time": "2023-05-07T04:35:20.299280",
     "status": "completed"
    },
    "tags": []
   },
   "outputs": [],
   "source": [
    "# classifying names into 3 classes\n",
    "df.Name = df.Name.apply(lambda x: x.split(', ')[1].split('. ')[0])\n",
    "\n",
    "second_class = ['Rev','Mrs']\n",
    "thirth_class = ['Dona','Jonkheer','the Countess','Capt','Don','Mme','Sir','Lady','Major','Mlle','Col','Dr']\n",
    "# first class all the rest\n",
    "\n",
    "# encode using classes\n",
    "for i in df.Name.value_counts().index:\n",
    "    if i in thirth_class:\n",
    "        df.loc[df.Name==i, 'Name'] = '3'\n",
    "    elif i in second_class:\n",
    "        df.loc[df.Name==i, 'Name'] = '2'\n",
    "    else:\n",
    "        df.loc[df.Name==i, 'Name'] = '1'\n",
    "df.Name = df.Name.astype('int64')"
   ]
  },
  {
   "cell_type": "markdown",
   "id": "153c8a93",
   "metadata": {
    "papermill": {
     "duration": 0.016721,
     "end_time": "2023-05-07T04:35:20.373834",
     "exception": false,
     "start_time": "2023-05-07T04:35:20.357113",
     "status": "completed"
    },
    "tags": []
   },
   "source": [
    "<a id=\"4.2\"></a>\n",
    "## <span style=\"color:#08bf2c;\"> Age </span>"
   ]
  },
  {
   "cell_type": "code",
   "execution_count": 14,
   "id": "09b115ec",
   "metadata": {
    "execution": {
     "iopub.execute_input": "2023-05-07T04:35:20.409028Z",
     "iopub.status.busy": "2023-05-07T04:35:20.408233Z",
     "iopub.status.idle": "2023-05-07T04:35:20.419189Z",
     "shell.execute_reply": "2023-05-07T04:35:20.418157Z"
    },
    "papermill": {
     "duration": 0.031248,
     "end_time": "2023-05-07T04:35:20.421586",
     "exception": false,
     "start_time": "2023-05-07T04:35:20.390338",
     "status": "completed"
    },
    "tags": []
   },
   "outputs": [],
   "source": [
    "# fill the nan values in the age column with numbers between mean - std, mean + std\n",
    "\n",
    "mean = df[\"Age\"].mean()\n",
    "std = df[\"Age\"].std()\n",
    "is_null = df[\"Age\"].isnull().sum()\n",
    "rand_age = np.random.randint(mean - std, mean + std, size = is_null)\n",
    "age_slice = df[\"Age\"].copy()\n",
    "age_slice[np.isnan(age_slice)] = rand_age\n",
    "df[\"Age\"] = age_slice"
   ]
  },
  {
   "cell_type": "markdown",
   "id": "28518b63",
   "metadata": {
    "papermill": {
     "duration": 0.01623,
     "end_time": "2023-05-07T04:35:20.454453",
     "exception": false,
     "start_time": "2023-05-07T04:35:20.438223",
     "status": "completed"
    },
    "tags": []
   },
   "source": [
    "<a id=\"4.3\"></a>\n",
    "## <span style=\"color:#08bf2c;\"> Ticket </span>"
   ]
  },
  {
   "cell_type": "code",
   "execution_count": 15,
   "id": "5245524f",
   "metadata": {
    "execution": {
     "iopub.execute_input": "2023-05-07T04:35:20.488710Z",
     "iopub.status.busy": "2023-05-07T04:35:20.488344Z",
     "iopub.status.idle": "2023-05-07T04:35:20.498856Z",
     "shell.execute_reply": "2023-05-07T04:35:20.498111Z"
    },
    "papermill": {
     "duration": 0.030704,
     "end_time": "2023-05-07T04:35:20.501511",
     "exception": false,
     "start_time": "2023-05-07T04:35:20.470807",
     "status": "completed"
    },
    "tags": []
   },
   "outputs": [],
   "source": [
    "# divide the Ticket column into 3 parts if it is divide\n",
    "\n",
    "df.Ticket.replace({'LINE':'0'},inplace=True)\n",
    "df['ticket_class'] = df.Ticket.apply(lambda x: x.split()[0] if len(x.split())>1 else 'X')\n",
    "df['ticket_number'] = df.Ticket.apply(lambda x: x.split()[-1][:1]).astype('int64')"
   ]
  },
  {
   "cell_type": "markdown",
   "id": "fbd23aad",
   "metadata": {
    "papermill": {
     "duration": 0.016237,
     "end_time": "2023-05-07T04:35:20.534083",
     "exception": false,
     "start_time": "2023-05-07T04:35:20.517846",
     "status": "completed"
    },
    "tags": []
   },
   "source": [
    "<a id=\"4.4\"></a>\n",
    "## <span style=\"color:#08bf2c;\"> Cabin </span>"
   ]
  },
  {
   "cell_type": "code",
   "execution_count": 16,
   "id": "ab007a10",
   "metadata": {
    "execution": {
     "iopub.execute_input": "2023-05-07T04:35:20.568638Z",
     "iopub.status.busy": "2023-05-07T04:35:20.567934Z",
     "iopub.status.idle": "2023-05-07T04:35:20.582322Z",
     "shell.execute_reply": "2023-05-07T04:35:20.581303Z"
    },
    "papermill": {
     "duration": 0.03441,
     "end_time": "2023-05-07T04:35:20.584734",
     "exception": false,
     "start_time": "2023-05-07T04:35:20.550324",
     "status": "completed"
    },
    "tags": []
   },
   "outputs": [],
   "source": [
    "# divide the Cabin column to cabin_class and cabin_number\n",
    "\n",
    "df.Cabin.fillna('X0', inplace=True)\n",
    "df.Cabin = df.Cabin.apply(lambda x: x.split()[0])\n",
    "df['cabin_class'] = df['Cabin'].apply(lambda x: x[:1])\n",
    "df['cabin_number'] = df['Cabin'].apply(lambda x: x[1:])\n",
    "df.loc[df.cabin_number=='','cabin_number'] = '0'\n",
    "df.cabin_number = df.cabin_number.astype('int64')\n",
    "\n",
    "\n",
    "# fill nan values, Embarked column\n",
    "df.Embarked.fillna(method='ffill', inplace=True)"
   ]
  },
  {
   "cell_type": "markdown",
   "id": "242b13c9",
   "metadata": {
    "papermill": {
     "duration": 0.015885,
     "end_time": "2023-05-07T04:35:20.617021",
     "exception": false,
     "start_time": "2023-05-07T04:35:20.601136",
     "status": "completed"
    },
    "tags": []
   },
   "source": [
    "<a id=\"4.5\"></a>\n",
    "## <span style=\"color:#08bf2c;\"> new column -> Relatives </span>"
   ]
  },
  {
   "cell_type": "code",
   "execution_count": 17,
   "id": "e4af9ab6",
   "metadata": {
    "execution": {
     "iopub.execute_input": "2023-05-07T04:35:20.651086Z",
     "iopub.status.busy": "2023-05-07T04:35:20.650660Z",
     "iopub.status.idle": "2023-05-07T04:35:20.659121Z",
     "shell.execute_reply": "2023-05-07T04:35:20.658280Z"
    },
    "papermill": {
     "duration": 0.028235,
     "end_time": "2023-05-07T04:35:20.661382",
     "exception": false,
     "start_time": "2023-05-07T04:35:20.633147",
     "status": "completed"
    },
    "tags": []
   },
   "outputs": [],
   "source": [
    "# add new common relative count and travelled_alone columns\n",
    "\n",
    "df['relatives'] = df['SibSp'] + df['Parch']\n",
    "df.loc[df['relatives']>0, 'travelled_alone'] = 1\n",
    "df.loc[df['relatives']==0, 'travelled_alone'] = 0"
   ]
  },
  {
   "cell_type": "code",
   "execution_count": 18,
   "id": "881e2749",
   "metadata": {
    "_kg_hide-input": true,
    "execution": {
     "iopub.execute_input": "2023-05-07T04:35:20.695988Z",
     "iopub.status.busy": "2023-05-07T04:35:20.694882Z",
     "iopub.status.idle": "2023-05-07T04:35:20.710700Z",
     "shell.execute_reply": "2023-05-07T04:35:20.709133Z"
    },
    "jupyter": {
     "source_hidden": true
    },
    "papermill": {
     "duration": 0.035252,
     "end_time": "2023-05-07T04:35:20.712833",
     "exception": false,
     "start_time": "2023-05-07T04:35:20.677581",
     "status": "completed"
    },
    "tags": []
   },
   "outputs": [
    {
     "name": "stdout",
     "output_type": "stream",
     "text": [
      "<class 'pandas.core.frame.DataFrame'>\n",
      "Int64Index: 1309 entries, 1 to 1309\n",
      "Data columns (total 16 columns):\n",
      " #   Column           Non-Null Count  Dtype  \n",
      "---  ------           --------------  -----  \n",
      " 0   Pclass           1309 non-null   int64  \n",
      " 1   Name             1309 non-null   int64  \n",
      " 2   Sex              1309 non-null   object \n",
      " 3   Age              1309 non-null   float64\n",
      " 4   SibSp            1309 non-null   int64  \n",
      " 5   Parch            1309 non-null   int64  \n",
      " 6   Ticket           1309 non-null   object \n",
      " 7   Fare             1308 non-null   float64\n",
      " 8   Cabin            1309 non-null   object \n",
      " 9   Embarked         1309 non-null   object \n",
      " 10  ticket_class     1309 non-null   object \n",
      " 11  ticket_number    1309 non-null   int64  \n",
      " 12  cabin_class      1309 non-null   object \n",
      " 13  cabin_number     1309 non-null   int64  \n",
      " 14  relatives        1309 non-null   int64  \n",
      " 15  travelled_alone  1309 non-null   float64\n",
      "dtypes: float64(3), int64(7), object(6)\n",
      "memory usage: 173.9+ KB\n"
     ]
    }
   ],
   "source": [
    "df.info()"
   ]
  },
  {
   "cell_type": "markdown",
   "id": "3c038cde",
   "metadata": {
    "papermill": {
     "duration": 0.015868,
     "end_time": "2023-05-07T04:35:20.745396",
     "exception": false,
     "start_time": "2023-05-07T04:35:20.729528",
     "status": "completed"
    },
    "tags": []
   },
   "source": [
    "### <span style=\"color:#2981d9;\"> Split </span>"
   ]
  },
  {
   "cell_type": "code",
   "execution_count": 19,
   "id": "2ecf86ec",
   "metadata": {
    "execution": {
     "iopub.execute_input": "2023-05-07T04:35:20.780030Z",
     "iopub.status.busy": "2023-05-07T04:35:20.779464Z",
     "iopub.status.idle": "2023-05-07T04:35:20.786739Z",
     "shell.execute_reply": "2023-05-07T04:35:20.785948Z"
    },
    "papermill": {
     "duration": 0.026948,
     "end_time": "2023-05-07T04:35:20.788806",
     "exception": false,
     "start_time": "2023-05-07T04:35:20.761858",
     "status": "completed"
    },
    "tags": []
   },
   "outputs": [],
   "source": [
    "# split data and labels\n",
    "y = train['Survived']\n",
    "train = df[:891]\n",
    "test = df[891:]\n",
    "X = train\n",
    "\n",
    "# split train-test for modeling\n",
    "X_train , X_test , y_train , y_test = train_test_split(X , y, random_state=18, test_size=0.2)"
   ]
  },
  {
   "cell_type": "markdown",
   "id": "ea8a7a76",
   "metadata": {
    "papermill": {
     "duration": 0.016448,
     "end_time": "2023-05-07T04:35:20.821847",
     "exception": false,
     "start_time": "2023-05-07T04:35:20.805399",
     "status": "completed"
    },
    "tags": []
   },
   "source": [
    "<a href=\"#ToC\" role=\"button\" aria-pressed=\"true\" >⬆️Back to Table of Contents ⬆️</a>"
   ]
  },
  {
   "cell_type": "markdown",
   "id": "64d09cd9",
   "metadata": {
    "papermill": {
     "duration": 0.015961,
     "end_time": "2023-05-07T04:35:20.854242",
     "exception": false,
     "start_time": "2023-05-07T04:35:20.838281",
     "status": "completed"
    },
    "tags": []
   },
   "source": [
    "<a id=\"5\"></a>\n",
    "# **<div style=\"padding:10px;color:white;display:fill;border-radius:5px;background-color:#5642C5;font-size:120%;font-family:Verdana;\"><center><span> Model </span></center></div>**"
   ]
  },
  {
   "cell_type": "code",
   "execution_count": 20,
   "id": "ec969fcc",
   "metadata": {
    "execution": {
     "iopub.execute_input": "2023-05-07T04:35:20.890082Z",
     "iopub.status.busy": "2023-05-07T04:35:20.889469Z",
     "iopub.status.idle": "2023-05-07T04:35:20.924414Z",
     "shell.execute_reply": "2023-05-07T04:35:20.923440Z"
    },
    "papermill": {
     "duration": 0.055281,
     "end_time": "2023-05-07T04:35:20.926743",
     "exception": false,
     "start_time": "2023-05-07T04:35:20.871462",
     "status": "completed"
    },
    "tags": []
   },
   "outputs": [],
   "source": [
    "# prepare data for model\n",
    "cat_feat = list(X_train.columns[X_train.dtypes=='object'])   # categorical features\n",
    "\n",
    "pool_train = Pool(X_train, y_train, cat_features = cat_feat)\n",
    "pool_test = Pool(X_test, cat_features = cat_feat)"
   ]
  },
  {
   "cell_type": "code",
   "execution_count": 21,
   "id": "56aa646b",
   "metadata": {
    "execution": {
     "iopub.execute_input": "2023-05-07T04:35:20.961956Z",
     "iopub.status.busy": "2023-05-07T04:35:20.961022Z",
     "iopub.status.idle": "2023-05-07T04:35:24.843141Z",
     "shell.execute_reply": "2023-05-07T04:35:24.842085Z"
    },
    "papermill": {
     "duration": 3.901998,
     "end_time": "2023-05-07T04:35:24.845668",
     "exception": false,
     "start_time": "2023-05-07T04:35:20.943670",
     "status": "completed"
    },
    "tags": []
   },
   "outputs": [
    {
     "data": {
      "text/plain": [
       "<catboost.core.CatBoostClassifier at 0x7fbf2d2e3a30>"
      ]
     },
     "execution_count": 21,
     "metadata": {},
     "output_type": "execute_result"
    }
   ],
   "source": [
    "# model\n",
    "model = CatBoostClassifier(verbose=False, random_state=18)\n",
    "\n",
    "# model fitting\n",
    "model.fit(pool_train)"
   ]
  },
  {
   "cell_type": "markdown",
   "id": "871551e8",
   "metadata": {
    "papermill": {
     "duration": 0.016326,
     "end_time": "2023-05-07T04:35:24.878945",
     "exception": false,
     "start_time": "2023-05-07T04:35:24.862619",
     "status": "completed"
    },
    "tags": []
   },
   "source": [
    "<a href=\"#ToC\" role=\"button\" aria-pressed=\"true\" >⬆️Back to Table of Contents ⬆️</a>"
   ]
  },
  {
   "cell_type": "markdown",
   "id": "90bace0e",
   "metadata": {
    "papermill": {
     "duration": 0.016404,
     "end_time": "2023-05-07T04:35:24.911998",
     "exception": false,
     "start_time": "2023-05-07T04:35:24.895594",
     "status": "completed"
    },
    "tags": []
   },
   "source": [
    "<a id=\"6\"></a>\n",
    "# **<div style=\"padding:10px;color:white;display:fill;border-radius:5px;background-color:#5642C5;font-size:120%;font-family:Verdana;\"><center><span> Evaluation </span></center></div>**"
   ]
  },
  {
   "cell_type": "markdown",
   "id": "e9dba8a0",
   "metadata": {
    "papermill": {
     "duration": 0.016662,
     "end_time": "2023-05-07T04:35:24.945000",
     "exception": false,
     "start_time": "2023-05-07T04:35:24.928338",
     "status": "completed"
    },
    "tags": []
   },
   "source": [
    "<a id=\"6.1\"></a>\n",
    "## <span style=\"color:#08bf2c;\"> Classification report </span>"
   ]
  },
  {
   "cell_type": "code",
   "execution_count": 22,
   "id": "37914b44",
   "metadata": {
    "_kg_hide-input": true,
    "execution": {
     "iopub.execute_input": "2023-05-07T04:35:24.979471Z",
     "iopub.status.busy": "2023-05-07T04:35:24.979080Z",
     "iopub.status.idle": "2023-05-07T04:35:24.998433Z",
     "shell.execute_reply": "2023-05-07T04:35:24.996876Z"
    },
    "jupyter": {
     "source_hidden": true
    },
    "papermill": {
     "duration": 0.039323,
     "end_time": "2023-05-07T04:35:25.000773",
     "exception": false,
     "start_time": "2023-05-07T04:35:24.961450",
     "status": "completed"
    },
    "tags": []
   },
   "outputs": [
    {
     "name": "stdout",
     "output_type": "stream",
     "text": [
      "              precision    recall  f1-score   support\n",
      "\n",
      "           0       0.88      0.90      0.89       109\n",
      "           1       0.84      0.81      0.83        70\n",
      "\n",
      "    accuracy                           0.87       179\n",
      "   macro avg       0.86      0.86      0.86       179\n",
      "weighted avg       0.87      0.87      0.87       179\n",
      "\n"
     ]
    }
   ],
   "source": [
    "y_pred = model.predict(pool_test)\n",
    "print(classification_report(y_test, y_pred))"
   ]
  },
  {
   "cell_type": "markdown",
   "id": "2d19aa8f",
   "metadata": {
    "papermill": {
     "duration": 0.016653,
     "end_time": "2023-05-07T04:35:25.033964",
     "exception": false,
     "start_time": "2023-05-07T04:35:25.017311",
     "status": "completed"
    },
    "tags": []
   },
   "source": [
    "<a id=\"6.2\"></a>\n",
    "## <span style=\"color:#08bf2c;\"> Confusion matrix </span>"
   ]
  },
  {
   "cell_type": "code",
   "execution_count": 23,
   "id": "40906d77",
   "metadata": {
    "_kg_hide-input": true,
    "execution": {
     "iopub.execute_input": "2023-05-07T04:35:25.068120Z",
     "iopub.status.busy": "2023-05-07T04:35:25.067739Z",
     "iopub.status.idle": "2023-05-07T04:35:25.325363Z",
     "shell.execute_reply": "2023-05-07T04:35:25.324185Z"
    },
    "jupyter": {
     "source_hidden": true
    },
    "papermill": {
     "duration": 0.277367,
     "end_time": "2023-05-07T04:35:25.327848",
     "exception": false,
     "start_time": "2023-05-07T04:35:25.050481",
     "status": "completed"
    },
    "tags": []
   },
   "outputs": [
    {
     "data": {
      "image/png": "[encoded data removed]",
      "text/plain": [
       "<Figure size 800x600 with 2 Axes>"
      ]
     },
     "metadata": {},
     "output_type": "display_data"
    }
   ],
   "source": [
    "plt.figure(figsize=(8,6))\n",
    "conf_mat = confusion_matrix(y_test, y_pred)\n",
    "sns.heatmap(conf_mat, annot=True, fmt=\"g\", cmap='coolwarm')\n",
    "plt.show()"
   ]
  },
  {
   "cell_type": "markdown",
   "id": "3306acee",
   "metadata": {
    "papermill": {
     "duration": 0.016531,
     "end_time": "2023-05-07T04:35:25.361421",
     "exception": false,
     "start_time": "2023-05-07T04:35:25.344890",
     "status": "completed"
    },
    "tags": []
   },
   "source": [
    "<a id=\"6.3\"></a>\n",
    "## <span style=\"color:#08bf2c;\"> ROC curve </span>"
   ]
  },
  {
   "cell_type": "code",
   "execution_count": 24,
   "id": "bc7aa06e",
   "metadata": {
    "_kg_hide-input": true,
    "execution": {
     "iopub.execute_input": "2023-05-07T04:35:25.396758Z",
     "iopub.status.busy": "2023-05-07T04:35:25.396398Z",
     "iopub.status.idle": "2023-05-07T04:35:25.615309Z",
     "shell.execute_reply": "2023-05-07T04:35:25.614289Z"
    },
    "jupyter": {
     "source_hidden": true
    },
    "papermill": {
     "duration": 0.239463,
     "end_time": "2023-05-07T04:35:25.617637",
     "exception": false,
     "start_time": "2023-05-07T04:35:25.378174",
     "status": "completed"
    },
    "tags": []
   },
   "outputs": [
    {
     "data": {
      "text/plain": [
       "<Figure size 800x600 with 0 Axes>"
      ]
     },
     "metadata": {},
     "output_type": "display_data"
    },
    {
     "data": {
      "image/png": "[encoded data removed]",
      "text/plain": [
       "<Figure size 640x480 with 1 Axes>"
      ]
     },
     "metadata": {},
     "output_type": "display_data"
    }
   ],
   "source": [
    "plt.figure(figsize=(8,6))\n",
    "fpr, tpr, thresholds = roc_curve(y_test, y_pred)\n",
    "roc_auc = auc(fpr, tpr)\n",
    "display = RocCurveDisplay(fpr=fpr, tpr=tpr, roc_auc=roc_auc, estimator_name='ROC curve')\n",
    "display.plot()\n",
    "plt.show()"
   ]
  },
  {
   "cell_type": "markdown",
   "id": "42dcb2b1",
   "metadata": {
    "papermill": {
     "duration": 0.017004,
     "end_time": "2023-05-07T04:35:25.652387",
     "exception": false,
     "start_time": "2023-05-07T04:35:25.635383",
     "status": "completed"
    },
    "tags": []
   },
   "source": [
    "<a id=\"6.4\"></a>\n",
    "## <span style=\"color:#08bf2c;\"> Feature importance </span>"
   ]
  },
  {
   "cell_type": "code",
   "execution_count": 25,
   "id": "887e22c7",
   "metadata": {
    "_kg_hide-input": true,
    "execution": {
     "iopub.execute_input": "2023-05-07T04:35:25.688821Z",
     "iopub.status.busy": "2023-05-07T04:35:25.688468Z",
     "iopub.status.idle": "2023-05-07T04:35:26.217634Z",
     "shell.execute_reply": "2023-05-07T04:35:26.216341Z"
    },
    "jupyter": {
     "source_hidden": true
    },
    "papermill": {
     "duration": 0.55041,
     "end_time": "2023-05-07T04:35:26.220035",
     "exception": false,
     "start_time": "2023-05-07T04:35:25.669625",
     "status": "completed"
    },
    "tags": []
   },
   "outputs": [
    {
     "data": {
      "image/png": "[encoded data removed]",
      "text/plain": [
       "<Figure size 1000x800 with 1 Axes>"
      ]
     },
     "metadata": {},
     "output_type": "display_data"
    }
   ],
   "source": [
    "plt.figure(figsize=(10,8))\n",
    "fs = pd.Series(model.get_feature_importance(), index=X.columns).sort_values(ascending=False)\n",
    "sns.barplot(x=fs.values, y=fs.index, palette='viridis')\n",
    "plt.title('CatBoostClassifier feature importance')\n",
    "plt.xlabel('Feature importance')\n",
    "plt.ylabel('Reature names')\n",
    "plt.show()"
   ]
  },
  {
   "cell_type": "markdown",
   "id": "828507a5",
   "metadata": {
    "papermill": {
     "duration": 0.017764,
     "end_time": "2023-05-07T04:35:26.255867",
     "exception": false,
     "start_time": "2023-05-07T04:35:26.238103",
     "status": "completed"
    },
    "tags": []
   },
   "source": [
    "<a id=\"6.5\"></a>\n",
    "## <span style=\"color:#08bf2c;\"> Accuracy score </span>"
   ]
  },
  {
   "cell_type": "code",
   "execution_count": 26,
   "id": "3feef35c",
   "metadata": {
    "_kg_hide-input": true,
    "execution": {
     "iopub.execute_input": "2023-05-07T04:35:26.293546Z",
     "iopub.status.busy": "2023-05-07T04:35:26.293194Z",
     "iopub.status.idle": "2023-05-07T04:35:26.303492Z",
     "shell.execute_reply": "2023-05-07T04:35:26.302197Z"
    },
    "jupyter": {
     "source_hidden": true
    },
    "papermill": {
     "duration": 0.031559,
     "end_time": "2023-05-07T04:35:26.305476",
     "exception": false,
     "start_time": "2023-05-07T04:35:26.273917",
     "status": "completed"
    },
    "tags": []
   },
   "outputs": [
    {
     "name": "stdout",
     "output_type": "stream",
     "text": [
      "\u001b[92m\n",
      "Accuracy score: 0.8659217877094972\n"
     ]
    }
   ],
   "source": [
    "pred = model.predict(pool_test)\n",
    "\n",
    "print(f'\\033[92m')\n",
    "print(\"Accuracy score:\",accuracy_score(y_test,pred))"
   ]
  },
  {
   "cell_type": "markdown",
   "id": "93af37a8",
   "metadata": {
    "papermill": {
     "duration": 0.018351,
     "end_time": "2023-05-07T04:35:26.342079",
     "exception": false,
     "start_time": "2023-05-07T04:35:26.323728",
     "status": "completed"
    },
    "tags": []
   },
   "source": [
    "<a href=\"#ToC\" role=\"button\" aria-pressed=\"true\" >⬆️Back to Table of Contents ⬆️</a>"
   ]
  },
  {
   "cell_type": "markdown",
   "id": "926d6f9c",
   "metadata": {
    "papermill": {
     "duration": 0.017877,
     "end_time": "2023-05-07T04:35:26.378320",
     "exception": false,
     "start_time": "2023-05-07T04:35:26.360443",
     "status": "completed"
    },
    "tags": []
   },
   "source": [
    "<a id=\"7\"></a>\n",
    "# **<div style=\"padding:10px;color:white;display:fill;border-radius:5px;background-color:#5642C5;font-size:120%;font-family:Verdana;\"><center><span> Submission </span></center></div>**"
   ]
  },
  {
   "cell_type": "code",
   "execution_count": 27,
   "id": "f0e81b27",
   "metadata": {
    "execution": {
     "iopub.execute_input": "2023-05-07T04:35:26.416531Z",
     "iopub.status.busy": "2023-05-07T04:35:26.416123Z",
     "iopub.status.idle": "2023-05-07T04:35:30.361426Z",
     "shell.execute_reply": "2023-05-07T04:35:30.360586Z"
    },
    "papermill": {
     "duration": 3.967149,
     "end_time": "2023-05-07T04:35:30.363564",
     "exception": false,
     "start_time": "2023-05-07T04:35:26.396415",
     "status": "completed"
    },
    "tags": []
   },
   "outputs": [
    {
     "data": {
      "text/plain": [
       "<catboost.core.CatBoostClassifier at 0x7fbf2a9e7a60>"
      ]
     },
     "execution_count": 27,
     "metadata": {},
     "output_type": "execute_result"
    }
   ],
   "source": [
    "pool_X = Pool(X, y, cat_features = cat_feat)\n",
    "pool_y = Pool(test, cat_features = cat_feat)\n",
    "\n",
    "# model fitting full data\n",
    "model = CatBoostClassifier(verbose=False, random_state=18)\n",
    "model.fit(pool_X)"
   ]
  },
  {
   "cell_type": "code",
   "execution_count": 28,
   "id": "6297414b",
   "metadata": {
    "execution": {
     "iopub.execute_input": "2023-05-07T04:35:30.402890Z",
     "iopub.status.busy": "2023-05-07T04:35:30.401888Z",
     "iopub.status.idle": "2023-05-07T04:35:30.425239Z",
     "shell.execute_reply": "2023-05-07T04:35:30.424386Z"
    },
    "papermill": {
     "duration": 0.045307,
     "end_time": "2023-05-07T04:35:30.427524",
     "exception": false,
     "start_time": "2023-05-07T04:35:30.382217",
     "status": "completed"
    },
    "tags": []
   },
   "outputs": [
    {
     "data": {
      "text/html": [
       "<div>\n",
       "<style scoped>\n",
       "    .dataframe tbody tr th:only-of-type {\n",
       "        vertical-align: middle;\n",
       "    }\n",
       "\n",
       "    .dataframe tbody tr th {\n",
       "        vertical-align: top;\n",
       "    }\n",
       "\n",
       "    .dataframe thead th {\n",
       "        text-align: right;\n",
       "    }\n",
       "</style>\n",
       "<table border=\"1\" class=\"dataframe\">\n",
       "  <thead>\n",
       "    <tr style=\"text-align: right;\">\n",
       "      <th></th>\n",
       "      <th>Survived</th>\n",
       "    </tr>\n",
       "    <tr>\n",
       "      <th>PassengerId</th>\n",
       "      <th></th>\n",
       "    </tr>\n",
       "  </thead>\n",
       "  <tbody>\n",
       "    <tr>\n",
       "      <th>892</th>\n",
       "      <td>0</td>\n",
       "    </tr>\n",
       "    <tr>\n",
       "      <th>893</th>\n",
       "      <td>0</td>\n",
       "    </tr>\n",
       "    <tr>\n",
       "      <th>894</th>\n",
       "      <td>0</td>\n",
       "    </tr>\n",
       "    <tr>\n",
       "      <th>895</th>\n",
       "      <td>0</td>\n",
       "    </tr>\n",
       "    <tr>\n",
       "      <th>896</th>\n",
       "      <td>1</td>\n",
       "    </tr>\n",
       "    <tr>\n",
       "      <th>...</th>\n",
       "      <td>...</td>\n",
       "    </tr>\n",
       "    <tr>\n",
       "      <th>1305</th>\n",
       "      <td>0</td>\n",
       "    </tr>\n",
       "    <tr>\n",
       "      <th>1306</th>\n",
       "      <td>1</td>\n",
       "    </tr>\n",
       "    <tr>\n",
       "      <th>1307</th>\n",
       "      <td>0</td>\n",
       "    </tr>\n",
       "    <tr>\n",
       "      <th>1308</th>\n",
       "      <td>0</td>\n",
       "    </tr>\n",
       "    <tr>\n",
       "      <th>1309</th>\n",
       "      <td>0</td>\n",
       "    </tr>\n",
       "  </tbody>\n",
       "</table>\n",
       "<p>418 rows × 1 columns</p>\n",
       "</div>"
      ],
      "text/plain": [
       "             Survived\n",
       "PassengerId          \n",
       "892                 0\n",
       "893                 0\n",
       "894                 0\n",
       "895                 0\n",
       "896                 1\n",
       "...               ...\n",
       "1305                0\n",
       "1306                1\n",
       "1307                0\n",
       "1308                0\n",
       "1309                0\n",
       "\n",
       "[418 rows x 1 columns]"
      ]
     },
     "execution_count": 28,
     "metadata": {},
     "output_type": "execute_result"
    }
   ],
   "source": [
    "# save submission\n",
    "submission.Survived = model.predict(pool_y)\n",
    "submission.to_csv(\"submission.csv\")\n",
    "pd.read_csv(\"submission.csv\", index_col=0)"
   ]
  },
  {
   "cell_type": "markdown",
   "id": "0816b605",
   "metadata": {
    "papermill": {
     "duration": 0.018032,
     "end_time": "2023-05-07T04:35:30.463916",
     "exception": false,
     "start_time": "2023-05-07T04:35:30.445884",
     "status": "completed"
    },
    "tags": []
   },
   "source": [
    "<a href=\"#ToC\" role=\"button\" aria-pressed=\"true\" >⬆️Back to Table of Contents ⬆️</a>"
   ]
  },
  {
   "cell_type": "markdown",
   "id": "e1978109",
   "metadata": {
    "papermill": {
     "duration": 0.018423,
     "end_time": "2023-05-07T04:35:30.500947",
     "exception": false,
     "start_time": "2023-05-07T04:35:30.482524",
     "status": "completed"
    },
    "tags": []
   },
   "source": [
    "<blockquote><p style=\"font-size:15px; color:#159364; font-family:verdana;\">💬Thank you for reading! If you have any feedback or find anything wrong, please let me know!🙂</p></blockquote>"
   ]
  }
 ],
 "metadata": {
  "kernelspec": {
   "display_name": "Python 3",
   "language": "python",
   "name": "python3"
  },
  "language_info": {
   "codemirror_mode": {
    "name": "ipython",
    "version": 3
   },
   "file_extension": ".py",
   "mimetype": "text/x-python",
   "name": "python",
   "nbconvert_exporter": "python",
   "pygments_lexer": "ipython3",
   "version": "3.10.10"
  },
  "papermill": {
   "default_parameters": {},
   "duration": 26.045378,
   "end_time": "2023-05-07T04:35:31.540825",
   "environment_variables": {},
   "exception": null,
   "input_path": "__notebook__.ipynb",
   "output_path": "__notebook__.ipynb",
   "parameters": {},
   "start_time": "2023-05-07T04:35:05.495447",
   "version": "2.4.0"
  }
 },
 "nbformat": 4,
 "nbformat_minor": 5
}
