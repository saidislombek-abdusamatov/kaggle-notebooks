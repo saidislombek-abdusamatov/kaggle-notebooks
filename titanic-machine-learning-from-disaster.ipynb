{
 "cells": [
  {
   "cell_type": "markdown",
   "id": "bb36ab0b",
   "metadata": {
    "papermill": {
     "duration": 0.014907,
     "end_time": "2023-05-04T08:27:52.562249",
     "exception": false,
     "start_time": "2023-05-04T08:27:52.547342",
     "status": "completed"
    },
    "tags": []
   },
   "source": [
    "# <center> 🚢Titanic - CatBoostClassifier📈 </center>"
   ]
  },
  {
   "cell_type": "markdown",
   "id": "4be84956",
   "metadata": {
    "papermill": {
     "duration": 0.014093,
     "end_time": "2023-05-04T08:27:52.590522",
     "exception": false,
     "start_time": "2023-05-04T08:27:52.576429",
     "status": "completed"
    },
    "tags": []
   },
   "source": [
    "<a id=\"ToC\"></a>\n",
    "# Table of Contents\n",
    "- [1. Introduction](#1)\n",
    "- [2. Imports](#2)\n",
    "- [3. EDA](#3)\n",
    "    - [3.1 Survived pie plot](#3.1)\n",
    "    - [3.2 Some columns count plot](#3.2)\n",
    "    - [3.3 Gender count plot ](#3.3)\n",
    "    - [3.4 Age & Survived kdeplot](#3.4)\n",
    "    - [3.5 Heatmap](#3.5)\n",
    "- [4. Data Processing (columns)](#4)\n",
    "    - [4.1 Name](#4.1)\n",
    "    - [4.2 Age](#4.2)\n",
    "    - [4.3 Ticket](#4.3)\n",
    "    - [4.4 Cabin](#4.4)\n",
    "    - [4.5 new -> Relatives](#4.5)\n",
    "- [5. Model](#5)    \n",
    "- [6. Evaluation](#6)\n",
    "    - [6.1 Classification report](#6.1)\n",
    "    - [6.2 Confusion matrix](#6.2)\n",
    "    - [6.3 ROC curve](#6.3)\n",
    "    - [6.4 Cross-validation score](#6.4)\n",
    "    - [6.5 Feature importance](#6.5)\n",
    "- [7. Submission](#7)"
   ]
  },
  {
   "cell_type": "markdown",
   "id": "a588701d",
   "metadata": {
    "papermill": {
     "duration": 0.013251,
     "end_time": "2023-05-04T08:27:52.619611",
     "exception": false,
     "start_time": "2023-05-04T08:27:52.606360",
     "status": "completed"
    },
    "tags": []
   },
   "source": [
    "<a id=\"1\"></a>\n",
    "# **<div style=\"padding:10px;color:white;display:fill;border-radius:5px;background-color:#5642C5;font-size:120%;font-family:Verdana;\"><center><span> Introduction </span></center></div>**"
   ]
  },
  {
   "cell_type": "markdown",
   "id": "253eb3dc",
   "metadata": {
    "papermill": {
     "duration": 0.013103,
     "end_time": "2023-05-04T08:27:52.646173",
     "exception": false,
     "start_time": "2023-05-04T08:27:52.633070",
     "status": "completed"
    },
    "tags": []
   },
   "source": [
    "![titanic](https://www.rmg.co.uk/sites/default/files/styles/full_width_1440/public/Atlantic%20liner%20%27Titanic%27%20%28Br%2C%201912%29%20sinking%2C%20bow%20first%2C%201912%2C%20with%20eight%20full%20lifeboats%20nearby%20and%20an%20iceberg%20in%20the%20distance_banner.jpg?itok=fQV6kN3z)"
   ]
  },
  {
   "cell_type": "markdown",
   "id": "53918664",
   "metadata": {
    "papermill": {
     "duration": 0.01375,
     "end_time": "2023-05-04T08:27:52.673373",
     "exception": false,
     "start_time": "2023-05-04T08:27:52.659623",
     "status": "completed"
    },
    "tags": []
   },
   "source": [
    "### About Challenge\n",
    "\n",
    "The sinking of the Titanic is one of the most infamous shipwrecks in history.\n",
    "\n",
    "**On April 15, 1912**, during her maiden voyage, the widely considered “unsinkable” RMS Titanic sank after colliding with an iceberg. Unfortunately, there weren’t enough lifeboats for everyone onboard, resulting in the death of **1502** out of **2224** passengers and crew.\n",
    "\n",
    "While there was some element of luck involved in surviving, it seems some groups of people were more likely to survive than others.\n",
    "\n",
    "In this challenge, we ask you to build a predictive model that answers the question: “what sorts of people were more likely to survive?” using passenger data (ie name, age, gender, socio-economic class, etc)."
   ]
  },
  {
   "cell_type": "markdown",
   "id": "d84478de",
   "metadata": {
    "papermill": {
     "duration": 0.013122,
     "end_time": "2023-05-04T08:27:52.700134",
     "exception": false,
     "start_time": "2023-05-04T08:27:52.687012",
     "status": "completed"
    },
    "tags": []
   },
   "source": [
    "### **About Dataset**\n",
    "\n",
    "The data has been split into two groups:\n",
    "\n",
    " - training set (train.csv)\n",
    " - test set (test.csv)\n",
    " \n",
    "**The training set** should be used to build your machine learning models. For the training set, we provide the outcome (also known as the “ground truth”) for each passenger. Your model will be based on “features” like passengers’ gender and class. You can also use feature engineering to create new features.\n",
    "\n",
    "**The test set** should be used to see how well your model performs on unseen data. For the test set, we do not provide the ground truth for each passenger. It is your job to predict these outcomes. For each passenger in the test set, use the model you trained to predict whether or not they survived the sinking of the Titanic."
   ]
  },
  {
   "cell_type": "markdown",
   "id": "ef71648e",
   "metadata": {
    "papermill": {
     "duration": 0.013177,
     "end_time": "2023-05-04T08:27:52.726775",
     "exception": false,
     "start_time": "2023-05-04T08:27:52.713598",
     "status": "completed"
    },
    "tags": []
   },
   "source": [
    "## 1. Introduction to CatBoost\n",
    "\n",
    " - CatBoost documentation says that-\n",
    "\"CatBoost is a high-performance open source library for gradient boosting on decision trees.\"\"\n",
    "\n",
    " - So, CatBoost is an algorithm for gradient boosting on decision trees.\n",
    " - It is a readymade classifier in scikit-learn’s conventions terms that would deal with categorical features automatically.\n",
    " - It can easily integrate with deep learning frameworks like Google’s TensorFlow and Apple’s Core ML.\n",
    " - It can work with diverse data types to help solve a wide range of problems (described later) that businesses face today.\n",
    " - It is developed by Yandex researchers and engineers, and is used for search, recommendation systems, personal assistant, self-driving cars, weather prediction and many other tasks.\n",
    " - Also, it provides best-in-class accuracy."
   ]
  },
  {
   "cell_type": "markdown",
   "id": "7178f307",
   "metadata": {
    "papermill": {
     "duration": 0.013299,
     "end_time": "2023-05-04T08:27:52.753533",
     "exception": false,
     "start_time": "2023-05-04T08:27:52.740234",
     "status": "completed"
    },
    "tags": []
   },
   "source": [
    "<a href=\"#ToC\" role=\"button\" aria-pressed=\"true\" >⬆️Back to Table of Contents ⬆️</a>"
   ]
  },
  {
   "cell_type": "markdown",
   "id": "a7c6816c",
   "metadata": {
    "papermill": {
     "duration": 0.013222,
     "end_time": "2023-05-04T08:27:52.780462",
     "exception": false,
     "start_time": "2023-05-04T08:27:52.767240",
     "status": "completed"
    },
    "tags": []
   },
   "source": [
    "<a id=\"2\"></a>\n",
    "# **<div style=\"padding:10px;color:white;display:fill;border-radius:5px;background-color:#5642C5;font-size:120%;font-family:Verdana;\"><center><span> Imports </span></center></div>**"
   ]
  },
  {
   "cell_type": "code",
   "execution_count": 1,
   "id": "b123204a",
   "metadata": {
    "_cell_guid": "b1076dfc-b9ad-4769-8c92-a6c4dae69d19",
    "_uuid": "8f2839f25d086af736a60e9eeb907d3b93b6e0e5",
    "execution": {
     "iopub.execute_input": "2023-05-04T08:27:52.809403Z",
     "iopub.status.busy": "2023-05-04T08:27:52.808905Z",
     "iopub.status.idle": "2023-05-04T08:27:55.862151Z",
     "shell.execute_reply": "2023-05-04T08:27:55.860819Z"
    },
    "papermill": {
     "duration": 3.071239,
     "end_time": "2023-05-04T08:27:55.865188",
     "exception": false,
     "start_time": "2023-05-04T08:27:52.793949",
     "status": "completed"
    },
    "tags": []
   },
   "outputs": [],
   "source": [
    "# common\n",
    "import pandas as pd\n",
    "import numpy as np\n",
    "\n",
    "# visualization\n",
    "import matplotlib.pyplot as plt\n",
    "import plotly.express as px\n",
    "import seaborn as sns\n",
    "\n",
    "# data processing\n",
    "from sklearn.model_selection import cross_val_score, train_test_split\n",
    "from sklearn.preprocessing import OrdinalEncoder\n",
    "from sklearn.utils import shuffle\n",
    "\n",
    "# model\n",
    "from catboost import CatBoostClassifier\n",
    "\n",
    "#metrics\n",
    "from sklearn.metrics import *"
   ]
  },
  {
   "cell_type": "markdown",
   "id": "3638f558",
   "metadata": {
    "papermill": {
     "duration": 0.013246,
     "end_time": "2023-05-04T08:27:55.892134",
     "exception": false,
     "start_time": "2023-05-04T08:27:55.878888",
     "status": "completed"
    },
    "tags": []
   },
   "source": [
    "## <span style=\"color:#08bf2c;\"> Data review </span>"
   ]
  },
  {
   "cell_type": "code",
   "execution_count": 2,
   "id": "7230c6ea",
   "metadata": {
    "_kg_hide-input": true,
    "execution": {
     "iopub.execute_input": "2023-05-04T08:27:55.921794Z",
     "iopub.status.busy": "2023-05-04T08:27:55.921393Z",
     "iopub.status.idle": "2023-05-04T08:27:55.975391Z",
     "shell.execute_reply": "2023-05-04T08:27:55.974202Z"
    },
    "jupyter": {
     "source_hidden": true
    },
    "papermill": {
     "duration": 0.071631,
     "end_time": "2023-05-04T08:27:55.978131",
     "exception": false,
     "start_time": "2023-05-04T08:27:55.906500",
     "status": "completed"
    },
    "tags": []
   },
   "outputs": [],
   "source": [
    "train = pd.read_csv(\"/kaggle/input/titanic/train.csv\", index_col=0)\n",
    "test = pd.read_csv('/kaggle/input/titanic/test.csv', index_col=0)\n",
    "submission = pd.read_csv('/kaggle/input/titanic/gender_submission.csv', index_col=0)"
   ]
  },
  {
   "cell_type": "markdown",
   "id": "66c55eb0",
   "metadata": {
    "papermill": {
     "duration": 0.013564,
     "end_time": "2023-05-04T08:27:56.005576",
     "exception": false,
     "start_time": "2023-05-04T08:27:55.992012",
     "status": "completed"
    },
    "tags": []
   },
   "source": [
    "### <span style=\"color:#2981d9;\"> Train data </span>"
   ]
  },
  {
   "cell_type": "code",
   "execution_count": 3,
   "id": "7920d2e8",
   "metadata": {
    "_kg_hide-input": true,
    "execution": {
     "iopub.execute_input": "2023-05-04T08:27:56.035536Z",
     "iopub.status.busy": "2023-05-04T08:27:56.035066Z",
     "iopub.status.idle": "2023-05-04T08:27:56.061880Z",
     "shell.execute_reply": "2023-05-04T08:27:56.060239Z"
    },
    "jupyter": {
     "source_hidden": true
    },
    "papermill": {
     "duration": 0.047447,
     "end_time": "2023-05-04T08:27:56.066940",
     "exception": false,
     "start_time": "2023-05-04T08:27:56.019493",
     "status": "completed"
    },
    "tags": []
   },
   "outputs": [
    {
     "data": {
      "text/html": [
       "<div>\n",
       "<style scoped>\n",
       "    .dataframe tbody tr th:only-of-type {\n",
       "        vertical-align: middle;\n",
       "    }\n",
       "\n",
       "    .dataframe tbody tr th {\n",
       "        vertical-align: top;\n",
       "    }\n",
       "\n",
       "    .dataframe thead th {\n",
       "        text-align: right;\n",
       "    }\n",
       "</style>\n",
       "<table border=\"1\" class=\"dataframe\">\n",
       "  <thead>\n",
       "    <tr style=\"text-align: right;\">\n",
       "      <th></th>\n",
       "      <th>Survived</th>\n",
       "      <th>Pclass</th>\n",
       "      <th>Name</th>\n",
       "      <th>Sex</th>\n",
       "      <th>Age</th>\n",
       "      <th>SibSp</th>\n",
       "      <th>Parch</th>\n",
       "      <th>Ticket</th>\n",
       "      <th>Fare</th>\n",
       "      <th>Cabin</th>\n",
       "      <th>Embarked</th>\n",
       "    </tr>\n",
       "    <tr>\n",
       "      <th>PassengerId</th>\n",
       "      <th></th>\n",
       "      <th></th>\n",
       "      <th></th>\n",
       "      <th></th>\n",
       "      <th></th>\n",
       "      <th></th>\n",
       "      <th></th>\n",
       "      <th></th>\n",
       "      <th></th>\n",
       "      <th></th>\n",
       "      <th></th>\n",
       "    </tr>\n",
       "  </thead>\n",
       "  <tbody>\n",
       "    <tr>\n",
       "      <th>1</th>\n",
       "      <td>0</td>\n",
       "      <td>3</td>\n",
       "      <td>Braund, Mr. Owen Harris</td>\n",
       "      <td>male</td>\n",
       "      <td>22.0</td>\n",
       "      <td>1</td>\n",
       "      <td>0</td>\n",
       "      <td>A/5 21171</td>\n",
       "      <td>7.2500</td>\n",
       "      <td>NaN</td>\n",
       "      <td>S</td>\n",
       "    </tr>\n",
       "    <tr>\n",
       "      <th>2</th>\n",
       "      <td>1</td>\n",
       "      <td>1</td>\n",
       "      <td>Cumings, Mrs. John Bradley (Florence Briggs Th...</td>\n",
       "      <td>female</td>\n",
       "      <td>38.0</td>\n",
       "      <td>1</td>\n",
       "      <td>0</td>\n",
       "      <td>PC 17599</td>\n",
       "      <td>71.2833</td>\n",
       "      <td>C85</td>\n",
       "      <td>C</td>\n",
       "    </tr>\n",
       "    <tr>\n",
       "      <th>3</th>\n",
       "      <td>1</td>\n",
       "      <td>3</td>\n",
       "      <td>Heikkinen, Miss. Laina</td>\n",
       "      <td>female</td>\n",
       "      <td>26.0</td>\n",
       "      <td>0</td>\n",
       "      <td>0</td>\n",
       "      <td>STON/O2. 3101282</td>\n",
       "      <td>7.9250</td>\n",
       "      <td>NaN</td>\n",
       "      <td>S</td>\n",
       "    </tr>\n",
       "    <tr>\n",
       "      <th>4</th>\n",
       "      <td>1</td>\n",
       "      <td>1</td>\n",
       "      <td>Futrelle, Mrs. Jacques Heath (Lily May Peel)</td>\n",
       "      <td>female</td>\n",
       "      <td>35.0</td>\n",
       "      <td>1</td>\n",
       "      <td>0</td>\n",
       "      <td>113803</td>\n",
       "      <td>53.1000</td>\n",
       "      <td>C123</td>\n",
       "      <td>S</td>\n",
       "    </tr>\n",
       "    <tr>\n",
       "      <th>5</th>\n",
       "      <td>0</td>\n",
       "      <td>3</td>\n",
       "      <td>Allen, Mr. William Henry</td>\n",
       "      <td>male</td>\n",
       "      <td>35.0</td>\n",
       "      <td>0</td>\n",
       "      <td>0</td>\n",
       "      <td>373450</td>\n",
       "      <td>8.0500</td>\n",
       "      <td>NaN</td>\n",
       "      <td>S</td>\n",
       "    </tr>\n",
       "  </tbody>\n",
       "</table>\n",
       "</div>"
      ],
      "text/plain": [
       "             Survived  Pclass  \\\n",
       "PassengerId                     \n",
       "1                   0       3   \n",
       "2                   1       1   \n",
       "3                   1       3   \n",
       "4                   1       1   \n",
       "5                   0       3   \n",
       "\n",
       "                                                          Name     Sex   Age  \\\n",
       "PassengerId                                                                    \n",
       "1                                      Braund, Mr. Owen Harris    male  22.0   \n",
       "2            Cumings, Mrs. John Bradley (Florence Briggs Th...  female  38.0   \n",
       "3                                       Heikkinen, Miss. Laina  female  26.0   \n",
       "4                 Futrelle, Mrs. Jacques Heath (Lily May Peel)  female  35.0   \n",
       "5                                     Allen, Mr. William Henry    male  35.0   \n",
       "\n",
       "             SibSp  Parch            Ticket     Fare Cabin Embarked  \n",
       "PassengerId                                                          \n",
       "1                1      0         A/5 21171   7.2500   NaN        S  \n",
       "2                1      0          PC 17599  71.2833   C85        C  \n",
       "3                0      0  STON/O2. 3101282   7.9250   NaN        S  \n",
       "4                1      0            113803  53.1000  C123        S  \n",
       "5                0      0            373450   8.0500   NaN        S  "
      ]
     },
     "execution_count": 3,
     "metadata": {},
     "output_type": "execute_result"
    }
   ],
   "source": [
    "train.head()"
   ]
  },
  {
   "cell_type": "code",
   "execution_count": 4,
   "id": "fdc94bf3",
   "metadata": {
    "_kg_hide-input": true,
    "execution": {
     "iopub.execute_input": "2023-05-04T08:27:56.100263Z",
     "iopub.status.busy": "2023-05-04T08:27:56.099804Z",
     "iopub.status.idle": "2023-05-04T08:27:56.121830Z",
     "shell.execute_reply": "2023-05-04T08:27:56.120304Z"
    },
    "jupyter": {
     "source_hidden": true
    },
    "papermill": {
     "duration": 0.041614,
     "end_time": "2023-05-04T08:27:56.125274",
     "exception": false,
     "start_time": "2023-05-04T08:27:56.083660",
     "status": "completed"
    },
    "tags": []
   },
   "outputs": [
    {
     "name": "stdout",
     "output_type": "stream",
     "text": [
      "<class 'pandas.core.frame.DataFrame'>\n",
      "Int64Index: 891 entries, 1 to 891\n",
      "Data columns (total 11 columns):\n",
      " #   Column    Non-Null Count  Dtype  \n",
      "---  ------    --------------  -----  \n",
      " 0   Survived  891 non-null    int64  \n",
      " 1   Pclass    891 non-null    int64  \n",
      " 2   Name      891 non-null    object \n",
      " 3   Sex       891 non-null    object \n",
      " 4   Age       714 non-null    float64\n",
      " 5   SibSp     891 non-null    int64  \n",
      " 6   Parch     891 non-null    int64  \n",
      " 7   Ticket    891 non-null    object \n",
      " 8   Fare      891 non-null    float64\n",
      " 9   Cabin     204 non-null    object \n",
      " 10  Embarked  889 non-null    object \n",
      "dtypes: float64(2), int64(4), object(5)\n",
      "memory usage: 83.5+ KB\n"
     ]
    }
   ],
   "source": [
    "train.info()"
   ]
  },
  {
   "cell_type": "markdown",
   "id": "c2c2b9b4",
   "metadata": {
    "papermill": {
     "duration": 0.014267,
     "end_time": "2023-05-04T08:27:56.154837",
     "exception": false,
     "start_time": "2023-05-04T08:27:56.140570",
     "status": "completed"
    },
    "tags": []
   },
   "source": [
    "### <span style=\"color:#2981d9;\"> Test data </span>"
   ]
  },
  {
   "cell_type": "code",
   "execution_count": 5,
   "id": "a96a511b",
   "metadata": {
    "_kg_hide-input": true,
    "execution": {
     "iopub.execute_input": "2023-05-04T08:27:56.185383Z",
     "iopub.status.busy": "2023-05-04T08:27:56.184929Z",
     "iopub.status.idle": "2023-05-04T08:27:56.202090Z",
     "shell.execute_reply": "2023-05-04T08:27:56.200813Z"
    },
    "jupyter": {
     "source_hidden": true
    },
    "papermill": {
     "duration": 0.035288,
     "end_time": "2023-05-04T08:27:56.204712",
     "exception": false,
     "start_time": "2023-05-04T08:27:56.169424",
     "status": "completed"
    },
    "tags": []
   },
   "outputs": [
    {
     "data": {
      "text/html": [
       "<div>\n",
       "<style scoped>\n",
       "    .dataframe tbody tr th:only-of-type {\n",
       "        vertical-align: middle;\n",
       "    }\n",
       "\n",
       "    .dataframe tbody tr th {\n",
       "        vertical-align: top;\n",
       "    }\n",
       "\n",
       "    .dataframe thead th {\n",
       "        text-align: right;\n",
       "    }\n",
       "</style>\n",
       "<table border=\"1\" class=\"dataframe\">\n",
       "  <thead>\n",
       "    <tr style=\"text-align: right;\">\n",
       "      <th></th>\n",
       "      <th>Pclass</th>\n",
       "      <th>Name</th>\n",
       "      <th>Sex</th>\n",
       "      <th>Age</th>\n",
       "      <th>SibSp</th>\n",
       "      <th>Parch</th>\n",
       "      <th>Ticket</th>\n",
       "      <th>Fare</th>\n",
       "      <th>Cabin</th>\n",
       "      <th>Embarked</th>\n",
       "    </tr>\n",
       "    <tr>\n",
       "      <th>PassengerId</th>\n",
       "      <th></th>\n",
       "      <th></th>\n",
       "      <th></th>\n",
       "      <th></th>\n",
       "      <th></th>\n",
       "      <th></th>\n",
       "      <th></th>\n",
       "      <th></th>\n",
       "      <th></th>\n",
       "      <th></th>\n",
       "    </tr>\n",
       "  </thead>\n",
       "  <tbody>\n",
       "    <tr>\n",
       "      <th>892</th>\n",
       "      <td>3</td>\n",
       "      <td>Kelly, Mr. James</td>\n",
       "      <td>male</td>\n",
       "      <td>34.5</td>\n",
       "      <td>0</td>\n",
       "      <td>0</td>\n",
       "      <td>330911</td>\n",
       "      <td>7.8292</td>\n",
       "      <td>NaN</td>\n",
       "      <td>Q</td>\n",
       "    </tr>\n",
       "    <tr>\n",
       "      <th>893</th>\n",
       "      <td>3</td>\n",
       "      <td>Wilkes, Mrs. James (Ellen Needs)</td>\n",
       "      <td>female</td>\n",
       "      <td>47.0</td>\n",
       "      <td>1</td>\n",
       "      <td>0</td>\n",
       "      <td>363272</td>\n",
       "      <td>7.0000</td>\n",
       "      <td>NaN</td>\n",
       "      <td>S</td>\n",
       "    </tr>\n",
       "    <tr>\n",
       "      <th>894</th>\n",
       "      <td>2</td>\n",
       "      <td>Myles, Mr. Thomas Francis</td>\n",
       "      <td>male</td>\n",
       "      <td>62.0</td>\n",
       "      <td>0</td>\n",
       "      <td>0</td>\n",
       "      <td>240276</td>\n",
       "      <td>9.6875</td>\n",
       "      <td>NaN</td>\n",
       "      <td>Q</td>\n",
       "    </tr>\n",
       "    <tr>\n",
       "      <th>895</th>\n",
       "      <td>3</td>\n",
       "      <td>Wirz, Mr. Albert</td>\n",
       "      <td>male</td>\n",
       "      <td>27.0</td>\n",
       "      <td>0</td>\n",
       "      <td>0</td>\n",
       "      <td>315154</td>\n",
       "      <td>8.6625</td>\n",
       "      <td>NaN</td>\n",
       "      <td>S</td>\n",
       "    </tr>\n",
       "    <tr>\n",
       "      <th>896</th>\n",
       "      <td>3</td>\n",
       "      <td>Hirvonen, Mrs. Alexander (Helga E Lindqvist)</td>\n",
       "      <td>female</td>\n",
       "      <td>22.0</td>\n",
       "      <td>1</td>\n",
       "      <td>1</td>\n",
       "      <td>3101298</td>\n",
       "      <td>12.2875</td>\n",
       "      <td>NaN</td>\n",
       "      <td>S</td>\n",
       "    </tr>\n",
       "  </tbody>\n",
       "</table>\n",
       "</div>"
      ],
      "text/plain": [
       "             Pclass                                          Name     Sex  \\\n",
       "PassengerId                                                                 \n",
       "892               3                              Kelly, Mr. James    male   \n",
       "893               3              Wilkes, Mrs. James (Ellen Needs)  female   \n",
       "894               2                     Myles, Mr. Thomas Francis    male   \n",
       "895               3                              Wirz, Mr. Albert    male   \n",
       "896               3  Hirvonen, Mrs. Alexander (Helga E Lindqvist)  female   \n",
       "\n",
       "              Age  SibSp  Parch   Ticket     Fare Cabin Embarked  \n",
       "PassengerId                                                       \n",
       "892          34.5      0      0   330911   7.8292   NaN        Q  \n",
       "893          47.0      1      0   363272   7.0000   NaN        S  \n",
       "894          62.0      0      0   240276   9.6875   NaN        Q  \n",
       "895          27.0      0      0   315154   8.6625   NaN        S  \n",
       "896          22.0      1      1  3101298  12.2875   NaN        S  "
      ]
     },
     "execution_count": 5,
     "metadata": {},
     "output_type": "execute_result"
    }
   ],
   "source": [
    "test.head()"
   ]
  },
  {
   "cell_type": "code",
   "execution_count": 6,
   "id": "2e7a323d",
   "metadata": {
    "_kg_hide-input": true,
    "execution": {
     "iopub.execute_input": "2023-05-04T08:27:56.234764Z",
     "iopub.status.busy": "2023-05-04T08:27:56.234364Z",
     "iopub.status.idle": "2023-05-04T08:27:56.249176Z",
     "shell.execute_reply": "2023-05-04T08:27:56.247716Z"
    },
    "jupyter": {
     "source_hidden": true
    },
    "papermill": {
     "duration": 0.033052,
     "end_time": "2023-05-04T08:27:56.251974",
     "exception": false,
     "start_time": "2023-05-04T08:27:56.218922",
     "status": "completed"
    },
    "tags": []
   },
   "outputs": [
    {
     "name": "stdout",
     "output_type": "stream",
     "text": [
      "<class 'pandas.core.frame.DataFrame'>\n",
      "Int64Index: 418 entries, 892 to 1309\n",
      "Data columns (total 10 columns):\n",
      " #   Column    Non-Null Count  Dtype  \n",
      "---  ------    --------------  -----  \n",
      " 0   Pclass    418 non-null    int64  \n",
      " 1   Name      418 non-null    object \n",
      " 2   Sex       418 non-null    object \n",
      " 3   Age       332 non-null    float64\n",
      " 4   SibSp     418 non-null    int64  \n",
      " 5   Parch     418 non-null    int64  \n",
      " 6   Ticket    418 non-null    object \n",
      " 7   Fare      417 non-null    float64\n",
      " 8   Cabin     91 non-null     object \n",
      " 9   Embarked  418 non-null    object \n",
      "dtypes: float64(2), int64(3), object(5)\n",
      "memory usage: 35.9+ KB\n"
     ]
    }
   ],
   "source": [
    "test.info()"
   ]
  },
  {
   "cell_type": "markdown",
   "id": "f23fb794",
   "metadata": {
    "papermill": {
     "duration": 0.014094,
     "end_time": "2023-05-04T08:27:56.280563",
     "exception": false,
     "start_time": "2023-05-04T08:27:56.266469",
     "status": "completed"
    },
    "tags": []
   },
   "source": [
    "<a href=\"#ToC\" role=\"button\" aria-pressed=\"true\" >⬆️Back to Table of Contents ⬆️</a>"
   ]
  },
  {
   "cell_type": "markdown",
   "id": "d4017a90",
   "metadata": {
    "papermill": {
     "duration": 0.013676,
     "end_time": "2023-05-04T08:27:56.308315",
     "exception": false,
     "start_time": "2023-05-04T08:27:56.294639",
     "status": "completed"
    },
    "tags": []
   },
   "source": [
    "<a id=\"3\"></a>\n",
    "# **<div style=\"padding:10px;color:white;display:fill;border-radius:5px;background-color:#5642C5;font-size:120%;font-family:Verdana;\"><center><span> EDA </span></center></div>**"
   ]
  },
  {
   "cell_type": "markdown",
   "id": "fd3829d2",
   "metadata": {
    "papermill": {
     "duration": 0.013683,
     "end_time": "2023-05-04T08:27:56.336070",
     "exception": false,
     "start_time": "2023-05-04T08:27:56.322387",
     "status": "completed"
    },
    "tags": []
   },
   "source": [
    "<a id=\"3.1\"></a>\n",
    "## <span style=\"color:#08bf2c;\"> Survived pie plot </span>"
   ]
  },
  {
   "cell_type": "code",
   "execution_count": 7,
   "id": "4424d126",
   "metadata": {
    "_kg_hide-input": true,
    "execution": {
     "iopub.execute_input": "2023-05-04T08:27:56.366189Z",
     "iopub.status.busy": "2023-05-04T08:27:56.365325Z",
     "iopub.status.idle": "2023-05-04T08:27:56.556739Z",
     "shell.execute_reply": "2023-05-04T08:27:56.554909Z"
    },
    "jupyter": {
     "source_hidden": true
    },
    "papermill": {
     "duration": 0.211446,
     "end_time": "2023-05-04T08:27:56.561355",
     "exception": false,
     "start_time": "2023-05-04T08:27:56.349909",
     "status": "completed"
    },
    "tags": []
   },
   "outputs": [
    {
     "data": {
      "image/png": "[encoded data removed]",
      "text/plain": [
       "<Figure size 504x504 with 1 Axes>"
      ]
     },
     "metadata": {},
     "output_type": "display_data"
    }
   ],
   "source": [
    "plt.figure(figsize=(7,7))\n",
    "total = train['Survived'].value_counts().values.sum()\n",
    "plt.pie(train['Survived'].value_counts().values, labels=train['Survived'].value_counts().index, autopct=lambda x: '{:.1f}%\\n{:.0f}'.format(x, total*x/100))\n",
    "plt.title('Survived')\n",
    "plt.show()"
   ]
  },
  {
   "cell_type": "markdown",
   "id": "6da6f98a",
   "metadata": {
    "papermill": {
     "duration": 0.014326,
     "end_time": "2023-05-04T08:27:56.607743",
     "exception": false,
     "start_time": "2023-05-04T08:27:56.593417",
     "status": "completed"
    },
    "tags": []
   },
   "source": [
    "<a id=\"3.2\"></a>\n",
    "## <span style=\"color:#08bf2c;\"> Some columns count plot </span>"
   ]
  },
  {
   "cell_type": "code",
   "execution_count": 8,
   "id": "7f4aef8b",
   "metadata": {
    "_kg_hide-input": true,
    "execution": {
     "iopub.execute_input": "2023-05-04T08:27:56.639815Z",
     "iopub.status.busy": "2023-05-04T08:27:56.638712Z",
     "iopub.status.idle": "2023-05-04T08:27:57.485192Z",
     "shell.execute_reply": "2023-05-04T08:27:57.483949Z"
    },
    "jupyter": {
     "source_hidden": true
    },
    "papermill": {
     "duration": 0.865888,
     "end_time": "2023-05-04T08:27:57.488253",
     "exception": false,
     "start_time": "2023-05-04T08:27:56.622365",
     "status": "completed"
    },
    "tags": []
   },
   "outputs": [
    {
     "data": {
      "image/png": "[encoded data removed]",
      "text/plain": [
       "<Figure size 1440x720 with 4 Axes>"
      ]
     },
     "metadata": {
      "needs_background": "light"
     },
     "output_type": "display_data"
    }
   ],
   "source": [
    "fig, axes = plt.subplots(2,2, figsize=(20,10))\n",
    "\n",
    "sel_col = ['Pclass', 'SibSp', 'Parch', 'Embarked']\n",
    "\n",
    "for i in range(2):\n",
    "    for j in range(2):\n",
    "        sns.countplot(x=sel_col[i*2+j], hue='Survived', palette='viridis', data=train, ax=axes[i,j])\n",
    "\n",
    "plt.show()"
   ]
  },
  {
   "cell_type": "markdown",
   "id": "09212250",
   "metadata": {
    "papermill": {
     "duration": 0.015038,
     "end_time": "2023-05-04T08:27:57.518790",
     "exception": false,
     "start_time": "2023-05-04T08:27:57.503752",
     "status": "completed"
    },
    "tags": []
   },
   "source": [
    "<a id=\"3.3\"></a>\n",
    "## <span style=\"color:#08bf2c;\"> Gender count plot </span>"
   ]
  },
  {
   "cell_type": "code",
   "execution_count": 9,
   "id": "22525a40",
   "metadata": {
    "_kg_hide-input": true,
    "execution": {
     "iopub.execute_input": "2023-05-04T08:27:57.551827Z",
     "iopub.status.busy": "2023-05-04T08:27:57.551399Z",
     "iopub.status.idle": "2023-05-04T08:27:57.773424Z",
     "shell.execute_reply": "2023-05-04T08:27:57.772184Z"
    },
    "jupyter": {
     "source_hidden": true
    },
    "papermill": {
     "duration": 0.241649,
     "end_time": "2023-05-04T08:27:57.776291",
     "exception": false,
     "start_time": "2023-05-04T08:27:57.534642",
     "status": "completed"
    },
    "tags": []
   },
   "outputs": [
    {
     "data": {
      "image/png": "[encoded data removed]",
      "text/plain": [
       "<Figure size 1080x504 with 1 Axes>"
      ]
     },
     "metadata": {
      "needs_background": "light"
     },
     "output_type": "display_data"
    }
   ],
   "source": [
    "plt.figure(figsize=(15,7))\n",
    "sns.countplot(data=train, x='Sex', hue='Survived', palette='Set1')\n",
    "plt.show()"
   ]
  },
  {
   "cell_type": "markdown",
   "id": "c0c77321",
   "metadata": {
    "papermill": {
     "duration": 0.015588,
     "end_time": "2023-05-04T08:27:57.807676",
     "exception": false,
     "start_time": "2023-05-04T08:27:57.792088",
     "status": "completed"
    },
    "tags": []
   },
   "source": [
    "<a id=\"3.4\"></a>\n",
    "## <span style=\"color:#08bf2c;\"> Age & Survived kdeplot </span>"
   ]
  },
  {
   "cell_type": "code",
   "execution_count": 10,
   "id": "3f3514ff",
   "metadata": {
    "_kg_hide-input": true,
    "execution": {
     "iopub.execute_input": "2023-05-04T08:27:57.840435Z",
     "iopub.status.busy": "2023-05-04T08:27:57.839449Z",
     "iopub.status.idle": "2023-05-04T08:27:58.153125Z",
     "shell.execute_reply": "2023-05-04T08:27:58.151867Z"
    },
    "jupyter": {
     "source_hidden": true
    },
    "papermill": {
     "duration": 0.333091,
     "end_time": "2023-05-04T08:27:58.155983",
     "exception": false,
     "start_time": "2023-05-04T08:27:57.822892",
     "status": "completed"
    },
    "tags": []
   },
   "outputs": [
    {
     "data": {
      "image/png": "[encoded data removed]",
      "text/plain": [
       "<Figure size 1440x504 with 1 Axes>"
      ]
     },
     "metadata": {
      "needs_background": "light"
     },
     "output_type": "display_data"
    }
   ],
   "source": [
    "plt.figure(figsize=(20,7))\n",
    "sns.kdeplot(data=train, x='Age', hue='Survived',fill=True, palette='Set2')\n",
    "plt.xticks(rotation=90)\n",
    "plt.show()"
   ]
  },
  {
   "cell_type": "markdown",
   "id": "e4524a4f",
   "metadata": {
    "papermill": {
     "duration": 0.015688,
     "end_time": "2023-05-04T08:27:58.188503",
     "exception": false,
     "start_time": "2023-05-04T08:27:58.172815",
     "status": "completed"
    },
    "tags": []
   },
   "source": [
    "<a id=\"3.5\"></a>\n",
    "## <span style=\"color:#08bf2c;\"> Heatmap </span>"
   ]
  },
  {
   "cell_type": "code",
   "execution_count": 11,
   "id": "bc6c4f46",
   "metadata": {
    "_kg_hide-input": true,
    "execution": {
     "iopub.execute_input": "2023-05-04T08:27:58.222519Z",
     "iopub.status.busy": "2023-05-04T08:27:58.222117Z",
     "iopub.status.idle": "2023-05-04T08:27:58.544057Z",
     "shell.execute_reply": "2023-05-04T08:27:58.542553Z"
    },
    "jupyter": {
     "source_hidden": true
    },
    "papermill": {
     "duration": 0.342244,
     "end_time": "2023-05-04T08:27:58.546829",
     "exception": false,
     "start_time": "2023-05-04T08:27:58.204585",
     "status": "completed"
    },
    "tags": []
   },
   "outputs": [
    {
     "data": {
      "image/png": "[encoded data removed]",
      "text/plain": [
       "<Figure size 1152x432 with 2 Axes>"
      ]
     },
     "metadata": {
      "needs_background": "light"
     },
     "output_type": "display_data"
    }
   ],
   "source": [
    "df_m = train[['Parch','SibSp','Age']].groupby(['SibSp','Parch']).max().unstack(level=0)\n",
    "plt.figure(figsize=(16,6))\n",
    "sns.heatmap(data=df_m, cmap=\"YlGnBu\", linewidths=1, square=True)\n",
    "plt.xticks(np.arange(7) + .5, labels=[0,1,2,3,4,5,8])\n",
    "plt.xlabel('Sibling & Spouse')\n",
    "plt.show()"
   ]
  },
  {
   "cell_type": "markdown",
   "id": "6ca4f4c0",
   "metadata": {
    "papermill": {
     "duration": 0.016906,
     "end_time": "2023-05-04T08:27:58.580874",
     "exception": false,
     "start_time": "2023-05-04T08:27:58.563968",
     "status": "completed"
    },
    "tags": []
   },
   "source": [
    "<a href=\"#ToC\" role=\"button\" aria-pressed=\"true\" >⬆️Back to Table of Contents ⬆️</a>"
   ]
  },
  {
   "cell_type": "markdown",
   "id": "f61b088e",
   "metadata": {
    "papermill": {
     "duration": 0.016126,
     "end_time": "2023-05-04T08:27:58.613775",
     "exception": false,
     "start_time": "2023-05-04T08:27:58.597649",
     "status": "completed"
    },
    "tags": []
   },
   "source": [
    "<a id=\"4\"></a>\n",
    "# **<div style=\"padding:10px;color:white;display:fill;border-radius:5px;background-color:#5642C5;font-size:120%;font-family:Verdana;\"><center><span> Data Processing </span></center></div>**"
   ]
  },
  {
   "cell_type": "code",
   "execution_count": 12,
   "id": "7c32cb41",
   "metadata": {
    "execution": {
     "iopub.execute_input": "2023-05-04T08:27:58.648967Z",
     "iopub.status.busy": "2023-05-04T08:27:58.648280Z",
     "iopub.status.idle": "2023-05-04T08:27:58.665723Z",
     "shell.execute_reply": "2023-05-04T08:27:58.664198Z"
    },
    "papermill": {
     "duration": 0.038432,
     "end_time": "2023-05-04T08:27:58.668749",
     "exception": false,
     "start_time": "2023-05-04T08:27:58.630317",
     "status": "completed"
    },
    "tags": []
   },
   "outputs": [
    {
     "name": "stdout",
     "output_type": "stream",
     "text": [
      "<class 'pandas.core.frame.DataFrame'>\n",
      "Int64Index: 1309 entries, 1 to 1309\n",
      "Data columns (total 10 columns):\n",
      " #   Column    Non-Null Count  Dtype  \n",
      "---  ------    --------------  -----  \n",
      " 0   Pclass    1309 non-null   int64  \n",
      " 1   Name      1309 non-null   object \n",
      " 2   Sex       1309 non-null   object \n",
      " 3   Age       1046 non-null   float64\n",
      " 4   SibSp     1309 non-null   int64  \n",
      " 5   Parch     1309 non-null   int64  \n",
      " 6   Ticket    1309 non-null   object \n",
      " 7   Fare      1308 non-null   float64\n",
      " 8   Cabin     295 non-null    object \n",
      " 9   Embarked  1307 non-null   object \n",
      "dtypes: float64(2), int64(3), object(5)\n",
      "memory usage: 112.5+ KB\n"
     ]
    }
   ],
   "source": [
    "# data aggregation\n",
    "df = pd.concat([train.drop('Survived', axis=1),test])\n",
    "df.info()"
   ]
  },
  {
   "cell_type": "markdown",
   "id": "4bc2020a",
   "metadata": {
    "papermill": {
     "duration": 0.016503,
     "end_time": "2023-05-04T08:27:58.702639",
     "exception": false,
     "start_time": "2023-05-04T08:27:58.686136",
     "status": "completed"
    },
    "tags": []
   },
   "source": [
    "<a id=\"4.1\"></a>\n",
    "## <span style=\"color:#08bf2c;\"> Name </span>"
   ]
  },
  {
   "cell_type": "code",
   "execution_count": 13,
   "id": "0c5f859a",
   "metadata": {
    "execution": {
     "iopub.execute_input": "2023-05-04T08:27:58.738410Z",
     "iopub.status.busy": "2023-05-04T08:27:58.738003Z",
     "iopub.status.idle": "2023-05-04T08:27:58.763397Z",
     "shell.execute_reply": "2023-05-04T08:27:58.762178Z"
    },
    "papermill": {
     "duration": 0.046424,
     "end_time": "2023-05-04T08:27:58.765931",
     "exception": false,
     "start_time": "2023-05-04T08:27:58.719507",
     "status": "completed"
    },
    "tags": []
   },
   "outputs": [],
   "source": [
    "# classifying names into 3 classes\n",
    "df.Name = df.Name.apply(lambda x: x.split(', ')[1].split('. ')[0])\n",
    "\n",
    "second_class = ['Rev','Mrs']\n",
    "thirth_class = ['Dona','Jonkheer','the Countess','Capt','Don','Mme','Sir','Lady','Major','Mlle','Col','Dr']\n",
    "# first class all the rest\n",
    "\n",
    "# encode using classes\n",
    "for i in df.Name.value_counts().index:\n",
    "    if i in thirth_class:\n",
    "        df.loc[df.Name==i, 'Name'] = '3'\n",
    "    elif i in second_class:\n",
    "        df.loc[df.Name==i, 'Name'] = '2'\n",
    "    else:\n",
    "        df.loc[df.Name==i, 'Name'] = '1'\n",
    "df.Name = df.Name.astype('int64')"
   ]
  },
  {
   "cell_type": "markdown",
   "id": "e7785aef",
   "metadata": {
    "papermill": {
     "duration": 0.016107,
     "end_time": "2023-05-04T08:27:58.798766",
     "exception": false,
     "start_time": "2023-05-04T08:27:58.782659",
     "status": "completed"
    },
    "tags": []
   },
   "source": [
    "<a id=\"4.2\"></a>\n",
    "## <span style=\"color:#08bf2c;\"> Age </span>"
   ]
  },
  {
   "cell_type": "code",
   "execution_count": 14,
   "id": "3d2c680c",
   "metadata": {
    "execution": {
     "iopub.execute_input": "2023-05-04T08:27:58.834188Z",
     "iopub.status.busy": "2023-05-04T08:27:58.833473Z",
     "iopub.status.idle": "2023-05-04T08:27:58.845353Z",
     "shell.execute_reply": "2023-05-04T08:27:58.844170Z"
    },
    "papermill": {
     "duration": 0.032791,
     "end_time": "2023-05-04T08:27:58.848065",
     "exception": false,
     "start_time": "2023-05-04T08:27:58.815274",
     "status": "completed"
    },
    "tags": []
   },
   "outputs": [],
   "source": [
    "# fill the nan values in the age column with numbers between mean - std, mean + std\n",
    "\n",
    "mean = df[\"Age\"].mean()\n",
    "std = df[\"Age\"].std()\n",
    "is_null = df[\"Age\"].isnull().sum()\n",
    "rand_age = np.random.randint(mean - std, mean + std, size = is_null)\n",
    "age_slice = df[\"Age\"].copy()\n",
    "age_slice[np.isnan(age_slice)] = rand_age\n",
    "df[\"Age\"] = age_slice"
   ]
  },
  {
   "cell_type": "markdown",
   "id": "ce3326c6",
   "metadata": {
    "papermill": {
     "duration": 0.01672,
     "end_time": "2023-05-04T08:27:58.881631",
     "exception": false,
     "start_time": "2023-05-04T08:27:58.864911",
     "status": "completed"
    },
    "tags": []
   },
   "source": [
    "<a id=\"4.3\"></a>\n",
    "## <span style=\"color:#08bf2c;\"> Ticket </span>"
   ]
  },
  {
   "cell_type": "code",
   "execution_count": 15,
   "id": "8326d0a3",
   "metadata": {
    "execution": {
     "iopub.execute_input": "2023-05-04T08:27:58.917819Z",
     "iopub.status.busy": "2023-05-04T08:27:58.917413Z",
     "iopub.status.idle": "2023-05-04T08:27:58.929062Z",
     "shell.execute_reply": "2023-05-04T08:27:58.927703Z"
    },
    "papermill": {
     "duration": 0.032754,
     "end_time": "2023-05-04T08:27:58.931518",
     "exception": false,
     "start_time": "2023-05-04T08:27:58.898764",
     "status": "completed"
    },
    "tags": []
   },
   "outputs": [],
   "source": [
    "# divide the Ticket column into 3 parts if it is divide\n",
    "\n",
    "df.Ticket.replace({'LINE':'0'},inplace=True)\n",
    "df['ticket_class'] = df.Ticket.apply(lambda x: x.split()[0] if len(x.split())>1 else 'X')\n",
    "df['ticket_number'] = df.Ticket.apply(lambda x: x.split()[-1][:1]).astype('int64')"
   ]
  },
  {
   "cell_type": "markdown",
   "id": "981e6076",
   "metadata": {
    "papermill": {
     "duration": 0.016089,
     "end_time": "2023-05-04T08:27:58.964063",
     "exception": false,
     "start_time": "2023-05-04T08:27:58.947974",
     "status": "completed"
    },
    "tags": []
   },
   "source": [
    "<a id=\"4.4\"></a>\n",
    "## <span style=\"color:#08bf2c;\"> Cabin </span>"
   ]
  },
  {
   "cell_type": "code",
   "execution_count": 16,
   "id": "538c0eb0",
   "metadata": {
    "execution": {
     "iopub.execute_input": "2023-05-04T08:27:58.998688Z",
     "iopub.status.busy": "2023-05-04T08:27:58.998272Z",
     "iopub.status.idle": "2023-05-04T08:27:59.012746Z",
     "shell.execute_reply": "2023-05-04T08:27:59.011674Z"
    },
    "papermill": {
     "duration": 0.034556,
     "end_time": "2023-05-04T08:27:59.015056",
     "exception": false,
     "start_time": "2023-05-04T08:27:58.980500",
     "status": "completed"
    },
    "tags": []
   },
   "outputs": [],
   "source": [
    "# divide the Cabin column to cabin_class and cabin_number\n",
    "\n",
    "df.Cabin.fillna('X0', inplace=True)\n",
    "df.Cabin = df.Cabin.apply(lambda x: x.split()[0])\n",
    "df['cabin_class'] = df['Cabin'].apply(lambda x: x[:1])\n",
    "df['cabin_number'] = df['Cabin'].apply(lambda x: x[1:])\n",
    "df.loc[df.cabin_number=='','cabin_number'] = '0'\n",
    "df.cabin_number = df.cabin_number.astype('int64')"
   ]
  },
  {
   "cell_type": "markdown",
   "id": "79698a26",
   "metadata": {
    "papermill": {
     "duration": 0.016197,
     "end_time": "2023-05-04T08:27:59.048597",
     "exception": false,
     "start_time": "2023-05-04T08:27:59.032400",
     "status": "completed"
    },
    "tags": []
   },
   "source": [
    "<a id=\"4.5\"></a>\n",
    "## <span style=\"color:#08bf2c;\"> new column -> Relatives </span>"
   ]
  },
  {
   "cell_type": "code",
   "execution_count": 17,
   "id": "d77f1b90",
   "metadata": {
    "execution": {
     "iopub.execute_input": "2023-05-04T08:27:59.083497Z",
     "iopub.status.busy": "2023-05-04T08:27:59.083096Z",
     "iopub.status.idle": "2023-05-04T08:27:59.093556Z",
     "shell.execute_reply": "2023-05-04T08:27:59.092332Z"
    },
    "papermill": {
     "duration": 0.031368,
     "end_time": "2023-05-04T08:27:59.096436",
     "exception": false,
     "start_time": "2023-05-04T08:27:59.065068",
     "status": "completed"
    },
    "tags": []
   },
   "outputs": [],
   "source": [
    "# add new common relative count and travelled_alone columns\n",
    "\n",
    "df['relatives'] = df['SibSp'] + df['Parch']\n",
    "df.loc[df['relatives']>0, 'travelled_alone'] = 1\n",
    "df.loc[df['relatives']==0, 'travelled_alone'] = 0"
   ]
  },
  {
   "cell_type": "code",
   "execution_count": 18,
   "id": "af83433b",
   "metadata": {
    "_kg_hide-input": true,
    "execution": {
     "iopub.execute_input": "2023-05-04T08:27:59.131506Z",
     "iopub.status.busy": "2023-05-04T08:27:59.131074Z",
     "iopub.status.idle": "2023-05-04T08:27:59.149980Z",
     "shell.execute_reply": "2023-05-04T08:27:59.148439Z"
    },
    "jupyter": {
     "source_hidden": true
    },
    "papermill": {
     "duration": 0.039562,
     "end_time": "2023-05-04T08:27:59.152531",
     "exception": false,
     "start_time": "2023-05-04T08:27:59.112969",
     "status": "completed"
    },
    "tags": []
   },
   "outputs": [
    {
     "name": "stdout",
     "output_type": "stream",
     "text": [
      "<class 'pandas.core.frame.DataFrame'>\n",
      "Int64Index: 1309 entries, 1 to 1309\n",
      "Data columns (total 16 columns):\n",
      " #   Column           Non-Null Count  Dtype  \n",
      "---  ------           --------------  -----  \n",
      " 0   Pclass           1309 non-null   int64  \n",
      " 1   Name             1309 non-null   int64  \n",
      " 2   Sex              1309 non-null   object \n",
      " 3   Age              1309 non-null   float64\n",
      " 4   SibSp            1309 non-null   int64  \n",
      " 5   Parch            1309 non-null   int64  \n",
      " 6   Ticket           1309 non-null   object \n",
      " 7   Fare             1308 non-null   float64\n",
      " 8   Cabin            1309 non-null   object \n",
      " 9   Embarked         1307 non-null   object \n",
      " 10  ticket_class     1309 non-null   object \n",
      " 11  ticket_number    1309 non-null   int64  \n",
      " 12  cabin_class      1309 non-null   object \n",
      " 13  cabin_number     1309 non-null   int64  \n",
      " 14  relatives        1309 non-null   int64  \n",
      " 15  travelled_alone  1309 non-null   float64\n",
      "dtypes: float64(3), int64(7), object(6)\n",
      "memory usage: 173.9+ KB\n"
     ]
    }
   ],
   "source": [
    "df.info()"
   ]
  },
  {
   "cell_type": "markdown",
   "id": "638767bb",
   "metadata": {
    "papermill": {
     "duration": 0.016105,
     "end_time": "2023-05-04T08:27:59.185320",
     "exception": false,
     "start_time": "2023-05-04T08:27:59.169215",
     "status": "completed"
    },
    "tags": []
   },
   "source": [
    "### <span style=\"color:#2981d9;\"> Encoding </span>"
   ]
  },
  {
   "cell_type": "code",
   "execution_count": 19,
   "id": "402308c6",
   "metadata": {
    "execution": {
     "iopub.execute_input": "2023-05-04T08:27:59.220233Z",
     "iopub.status.busy": "2023-05-04T08:27:59.219774Z",
     "iopub.status.idle": "2023-05-04T08:27:59.256960Z",
     "shell.execute_reply": "2023-05-04T08:27:59.255826Z"
    },
    "papermill": {
     "duration": 0.05767,
     "end_time": "2023-05-04T08:27:59.259491",
     "exception": false,
     "start_time": "2023-05-04T08:27:59.201821",
     "status": "completed"
    },
    "tags": []
   },
   "outputs": [
    {
     "data": {
      "text/html": [
       "<div>\n",
       "<style scoped>\n",
       "    .dataframe tbody tr th:only-of-type {\n",
       "        vertical-align: middle;\n",
       "    }\n",
       "\n",
       "    .dataframe tbody tr th {\n",
       "        vertical-align: top;\n",
       "    }\n",
       "\n",
       "    .dataframe thead th {\n",
       "        text-align: right;\n",
       "    }\n",
       "</style>\n",
       "<table border=\"1\" class=\"dataframe\">\n",
       "  <thead>\n",
       "    <tr style=\"text-align: right;\">\n",
       "      <th></th>\n",
       "      <th>Pclass</th>\n",
       "      <th>Name</th>\n",
       "      <th>Sex</th>\n",
       "      <th>Age</th>\n",
       "      <th>SibSp</th>\n",
       "      <th>Parch</th>\n",
       "      <th>Ticket</th>\n",
       "      <th>Fare</th>\n",
       "      <th>Cabin</th>\n",
       "      <th>Embarked</th>\n",
       "      <th>ticket_class</th>\n",
       "      <th>ticket_number</th>\n",
       "      <th>cabin_class</th>\n",
       "      <th>cabin_number</th>\n",
       "      <th>relatives</th>\n",
       "      <th>travelled_alone</th>\n",
       "    </tr>\n",
       "    <tr>\n",
       "      <th>PassengerId</th>\n",
       "      <th></th>\n",
       "      <th></th>\n",
       "      <th></th>\n",
       "      <th></th>\n",
       "      <th></th>\n",
       "      <th></th>\n",
       "      <th></th>\n",
       "      <th></th>\n",
       "      <th></th>\n",
       "      <th></th>\n",
       "      <th></th>\n",
       "      <th></th>\n",
       "      <th></th>\n",
       "      <th></th>\n",
       "      <th></th>\n",
       "      <th></th>\n",
       "    </tr>\n",
       "  </thead>\n",
       "  <tbody>\n",
       "    <tr>\n",
       "      <th>1</th>\n",
       "      <td>3</td>\n",
       "      <td>1</td>\n",
       "      <td>1.0</td>\n",
       "      <td>22.0</td>\n",
       "      <td>1</td>\n",
       "      <td>0</td>\n",
       "      <td>721.0</td>\n",
       "      <td>7.2500</td>\n",
       "      <td>181.0</td>\n",
       "      <td>2.0</td>\n",
       "      <td>5.0</td>\n",
       "      <td>2</td>\n",
       "      <td>8.0</td>\n",
       "      <td>0</td>\n",
       "      <td>1</td>\n",
       "      <td>1.0</td>\n",
       "    </tr>\n",
       "    <tr>\n",
       "      <th>2</th>\n",
       "      <td>1</td>\n",
       "      <td>2</td>\n",
       "      <td>0.0</td>\n",
       "      <td>38.0</td>\n",
       "      <td>1</td>\n",
       "      <td>0</td>\n",
       "      <td>816.0</td>\n",
       "      <td>71.2833</td>\n",
       "      <td>106.0</td>\n",
       "      <td>0.0</td>\n",
       "      <td>21.0</td>\n",
       "      <td>1</td>\n",
       "      <td>2.0</td>\n",
       "      <td>85</td>\n",
       "      <td>1</td>\n",
       "      <td>1.0</td>\n",
       "    </tr>\n",
       "    <tr>\n",
       "      <th>3</th>\n",
       "      <td>3</td>\n",
       "      <td>1</td>\n",
       "      <td>0.0</td>\n",
       "      <td>26.0</td>\n",
       "      <td>0</td>\n",
       "      <td>0</td>\n",
       "      <td>914.0</td>\n",
       "      <td>7.9250</td>\n",
       "      <td>181.0</td>\n",
       "      <td>2.0</td>\n",
       "      <td>42.0</td>\n",
       "      <td>3</td>\n",
       "      <td>8.0</td>\n",
       "      <td>0</td>\n",
       "      <td>0</td>\n",
       "      <td>0.0</td>\n",
       "    </tr>\n",
       "    <tr>\n",
       "      <th>4</th>\n",
       "      <td>1</td>\n",
       "      <td>2</td>\n",
       "      <td>0.0</td>\n",
       "      <td>35.0</td>\n",
       "      <td>1</td>\n",
       "      <td>0</td>\n",
       "      <td>66.0</td>\n",
       "      <td>53.1000</td>\n",
       "      <td>70.0</td>\n",
       "      <td>2.0</td>\n",
       "      <td>49.0</td>\n",
       "      <td>1</td>\n",
       "      <td>2.0</td>\n",
       "      <td>123</td>\n",
       "      <td>1</td>\n",
       "      <td>1.0</td>\n",
       "    </tr>\n",
       "    <tr>\n",
       "      <th>5</th>\n",
       "      <td>3</td>\n",
       "      <td>1</td>\n",
       "      <td>1.0</td>\n",
       "      <td>35.0</td>\n",
       "      <td>0</td>\n",
       "      <td>0</td>\n",
       "      <td>650.0</td>\n",
       "      <td>8.0500</td>\n",
       "      <td>181.0</td>\n",
       "      <td>2.0</td>\n",
       "      <td>49.0</td>\n",
       "      <td>3</td>\n",
       "      <td>8.0</td>\n",
       "      <td>0</td>\n",
       "      <td>0</td>\n",
       "      <td>0.0</td>\n",
       "    </tr>\n",
       "  </tbody>\n",
       "</table>\n",
       "</div>"
      ],
      "text/plain": [
       "             Pclass  Name  Sex   Age  SibSp  Parch  Ticket     Fare  Cabin  \\\n",
       "PassengerId                                                                  \n",
       "1                 3     1  1.0  22.0      1      0   721.0   7.2500  181.0   \n",
       "2                 1     2  0.0  38.0      1      0   816.0  71.2833  106.0   \n",
       "3                 3     1  0.0  26.0      0      0   914.0   7.9250  181.0   \n",
       "4                 1     2  0.0  35.0      1      0    66.0  53.1000   70.0   \n",
       "5                 3     1  1.0  35.0      0      0   650.0   8.0500  181.0   \n",
       "\n",
       "             Embarked  ticket_class  ticket_number  cabin_class  cabin_number  \\\n",
       "PassengerId                                                                     \n",
       "1                 2.0           5.0              2          8.0             0   \n",
       "2                 0.0          21.0              1          2.0            85   \n",
       "3                 2.0          42.0              3          8.0             0   \n",
       "4                 2.0          49.0              1          2.0           123   \n",
       "5                 2.0          49.0              3          8.0             0   \n",
       "\n",
       "             relatives  travelled_alone  \n",
       "PassengerId                              \n",
       "1                    1              1.0  \n",
       "2                    1              1.0  \n",
       "3                    0              0.0  \n",
       "4                    1              1.0  \n",
       "5                    0              0.0  "
      ]
     },
     "execution_count": 19,
     "metadata": {},
     "output_type": "execute_result"
    }
   ],
   "source": [
    "# encoding object values\n",
    "oe = OrdinalEncoder()\n",
    "\n",
    "object_cols = list(df.columns[df.dtypes=='object'])\n",
    "df[object_cols] = oe.fit_transform(df[object_cols])\n",
    "df.head()"
   ]
  },
  {
   "cell_type": "markdown",
   "id": "737d065a",
   "metadata": {
    "papermill": {
     "duration": 0.016429,
     "end_time": "2023-05-04T08:27:59.294015",
     "exception": false,
     "start_time": "2023-05-04T08:27:59.277586",
     "status": "completed"
    },
    "tags": []
   },
   "source": [
    "### <span style=\"color:#2981d9;\"> Split </span>"
   ]
  },
  {
   "cell_type": "code",
   "execution_count": 20,
   "id": "1f5c5a0b",
   "metadata": {
    "execution": {
     "iopub.execute_input": "2023-05-04T08:27:59.329410Z",
     "iopub.status.busy": "2023-05-04T08:27:59.328957Z",
     "iopub.status.idle": "2023-05-04T08:27:59.338575Z",
     "shell.execute_reply": "2023-05-04T08:27:59.337579Z"
    },
    "papermill": {
     "duration": 0.030212,
     "end_time": "2023-05-04T08:27:59.340951",
     "exception": false,
     "start_time": "2023-05-04T08:27:59.310739",
     "status": "completed"
    },
    "tags": []
   },
   "outputs": [],
   "source": [
    "# split data and labels\n",
    "y = train['Survived']\n",
    "train = df[:891]\n",
    "test = df[891:]\n",
    "X = train\n",
    "\n",
    "# split train-test for modeling\n",
    "X_train , X_test , y_train , y_test = train_test_split(X , y, random_state=18, test_size=0.2)"
   ]
  },
  {
   "cell_type": "markdown",
   "id": "d323eb15",
   "metadata": {
    "papermill": {
     "duration": 0.016529,
     "end_time": "2023-05-04T08:27:59.374597",
     "exception": false,
     "start_time": "2023-05-04T08:27:59.358068",
     "status": "completed"
    },
    "tags": []
   },
   "source": [
    "<a href=\"#ToC\" role=\"button\" aria-pressed=\"true\" >⬆️Back to Table of Contents ⬆️</a>"
   ]
  },
  {
   "cell_type": "markdown",
   "id": "8df94490",
   "metadata": {
    "papermill": {
     "duration": 0.016444,
     "end_time": "2023-05-04T08:27:59.407870",
     "exception": false,
     "start_time": "2023-05-04T08:27:59.391426",
     "status": "completed"
    },
    "tags": []
   },
   "source": [
    "<a id=\"5\"></a>\n",
    "# **<div style=\"padding:10px;color:white;display:fill;border-radius:5px;background-color:#5642C5;font-size:120%;font-family:Verdana;\"><center><span> Model </span></center></div>**"
   ]
  },
  {
   "cell_type": "code",
   "execution_count": 21,
   "id": "6e66b2dd",
   "metadata": {
    "execution": {
     "iopub.execute_input": "2023-05-04T08:27:59.443559Z",
     "iopub.status.busy": "2023-05-04T08:27:59.443137Z",
     "iopub.status.idle": "2023-05-04T08:28:01.290946Z",
     "shell.execute_reply": "2023-05-04T08:28:01.289043Z"
    },
    "papermill": {
     "duration": 1.871188,
     "end_time": "2023-05-04T08:28:01.295978",
     "exception": false,
     "start_time": "2023-05-04T08:27:59.424790",
     "status": "completed"
    },
    "tags": []
   },
   "outputs": [
    {
     "data": {
      "text/plain": [
       "<catboost.core.CatBoostClassifier at 0x7daa77cd8d90>"
      ]
     },
     "execution_count": 21,
     "metadata": {},
     "output_type": "execute_result"
    }
   ],
   "source": [
    "# model\n",
    "model = CatBoostClassifier(verbose=False, random_state=18)\n",
    "\n",
    "# model fitting\n",
    "model.fit(X_train,y_train)"
   ]
  },
  {
   "cell_type": "markdown",
   "id": "a3b5539c",
   "metadata": {
    "papermill": {
     "duration": 0.02547,
     "end_time": "2023-05-04T08:28:01.341386",
     "exception": false,
     "start_time": "2023-05-04T08:28:01.315916",
     "status": "completed"
    },
    "tags": []
   },
   "source": [
    "<a href=\"#ToC\" role=\"button\" aria-pressed=\"true\" >⬆️Back to Table of Contents ⬆️</a>"
   ]
  },
  {
   "cell_type": "markdown",
   "id": "8b409396",
   "metadata": {
    "papermill": {
     "duration": 0.017364,
     "end_time": "2023-05-04T08:28:01.376787",
     "exception": false,
     "start_time": "2023-05-04T08:28:01.359423",
     "status": "completed"
    },
    "tags": []
   },
   "source": [
    "<a id=\"6\"></a>\n",
    "# **<div style=\"padding:10px;color:white;display:fill;border-radius:5px;background-color:#5642C5;font-size:120%;font-family:Verdana;\"><center><span> Evaluation </span></center></div>**"
   ]
  },
  {
   "cell_type": "markdown",
   "id": "5c22c357",
   "metadata": {
    "papermill": {
     "duration": 0.016677,
     "end_time": "2023-05-04T08:28:01.410679",
     "exception": false,
     "start_time": "2023-05-04T08:28:01.394002",
     "status": "completed"
    },
    "tags": []
   },
   "source": [
    "<a id=\"6.1\"></a>\n",
    "## <span style=\"color:#08bf2c;\"> Classification report </span>"
   ]
  },
  {
   "cell_type": "code",
   "execution_count": 22,
   "id": "d974cfb3",
   "metadata": {
    "_kg_hide-input": true,
    "execution": {
     "iopub.execute_input": "2023-05-04T08:28:01.447198Z",
     "iopub.status.busy": "2023-05-04T08:28:01.446777Z",
     "iopub.status.idle": "2023-05-04T08:28:01.465242Z",
     "shell.execute_reply": "2023-05-04T08:28:01.463763Z"
    },
    "jupyter": {
     "source_hidden": true
    },
    "papermill": {
     "duration": 0.040183,
     "end_time": "2023-05-04T08:28:01.468059",
     "exception": false,
     "start_time": "2023-05-04T08:28:01.427876",
     "status": "completed"
    },
    "tags": []
   },
   "outputs": [
    {
     "name": "stdout",
     "output_type": "stream",
     "text": [
      "              precision    recall  f1-score   support\n",
      "\n",
      "           0       0.86      0.92      0.89       109\n",
      "           1       0.86      0.77      0.81        70\n",
      "\n",
      "    accuracy                           0.86       179\n",
      "   macro avg       0.86      0.84      0.85       179\n",
      "weighted avg       0.86      0.86      0.86       179\n",
      "\n"
     ]
    }
   ],
   "source": [
    "y_pred = model.predict(X_test)\n",
    "print(classification_report(y_test, y_pred))"
   ]
  },
  {
   "cell_type": "markdown",
   "id": "f14a054e",
   "metadata": {
    "papermill": {
     "duration": 0.017506,
     "end_time": "2023-05-04T08:28:01.503023",
     "exception": false,
     "start_time": "2023-05-04T08:28:01.485517",
     "status": "completed"
    },
    "tags": []
   },
   "source": [
    "<a id=\"6.2\"></a>\n",
    "## <span style=\"color:#08bf2c;\"> Confusion matrix </span>"
   ]
  },
  {
   "cell_type": "code",
   "execution_count": 23,
   "id": "521380e1",
   "metadata": {
    "_kg_hide-input": true,
    "execution": {
     "iopub.execute_input": "2023-05-04T08:28:01.539293Z",
     "iopub.status.busy": "2023-05-04T08:28:01.538833Z",
     "iopub.status.idle": "2023-05-04T08:28:01.777721Z",
     "shell.execute_reply": "2023-05-04T08:28:01.776815Z"
    },
    "jupyter": {
     "source_hidden": true
    },
    "papermill": {
     "duration": 0.260168,
     "end_time": "2023-05-04T08:28:01.780465",
     "exception": false,
     "start_time": "2023-05-04T08:28:01.520297",
     "status": "completed"
    },
    "tags": []
   },
   "outputs": [
    {
     "data": {
      "image/png": "[encoded data removed]",
      "text/plain": [
       "<Figure size 576x432 with 2 Axes>"
      ]
     },
     "metadata": {
      "needs_background": "light"
     },
     "output_type": "display_data"
    }
   ],
   "source": [
    "plt.figure(figsize=(8,6))\n",
    "conf_mat = confusion_matrix(y_test, y_pred)\n",
    "sns.heatmap(conf_mat, annot=True, fmt=\"g\", cmap='coolwarm')\n",
    "plt.show()"
   ]
  },
  {
   "cell_type": "markdown",
   "id": "9dcd4f15",
   "metadata": {
    "papermill": {
     "duration": 0.016979,
     "end_time": "2023-05-04T08:28:01.815462",
     "exception": false,
     "start_time": "2023-05-04T08:28:01.798483",
     "status": "completed"
    },
    "tags": []
   },
   "source": [
    "<a id=\"6.3\"></a>\n",
    "## <span style=\"color:#08bf2c;\"> ROC curve </span>"
   ]
  },
  {
   "cell_type": "code",
   "execution_count": 24,
   "id": "591cd736",
   "metadata": {
    "_kg_hide-input": true,
    "execution": {
     "iopub.execute_input": "2023-05-04T08:28:01.852324Z",
     "iopub.status.busy": "2023-05-04T08:28:01.851895Z",
     "iopub.status.idle": "2023-05-04T08:28:02.074581Z",
     "shell.execute_reply": "2023-05-04T08:28:02.073322Z"
    },
    "jupyter": {
     "source_hidden": true
    },
    "papermill": {
     "duration": 0.245124,
     "end_time": "2023-05-04T08:28:02.077937",
     "exception": false,
     "start_time": "2023-05-04T08:28:01.832813",
     "status": "completed"
    },
    "tags": []
   },
   "outputs": [
    {
     "data": {
      "text/plain": [
       "<Figure size 576x432 with 0 Axes>"
      ]
     },
     "metadata": {},
     "output_type": "display_data"
    },
    {
     "data": {
      "image/png": "[encoded data removed]",
      "text/plain": [
       "<Figure size 432x288 with 1 Axes>"
      ]
     },
     "metadata": {
      "needs_background": "light"
     },
     "output_type": "display_data"
    }
   ],
   "source": [
    "plt.figure(figsize=(8,6))\n",
    "fpr, tpr, thresholds = roc_curve(y_test, y_pred)\n",
    "roc_auc = auc(fpr, tpr)\n",
    "display = RocCurveDisplay(fpr=fpr, tpr=tpr, roc_auc=roc_auc, estimator_name='ROC curve')\n",
    "display.plot()\n",
    "plt.show()"
   ]
  },
  {
   "cell_type": "markdown",
   "id": "490bf0e5",
   "metadata": {
    "papermill": {
     "duration": 0.018228,
     "end_time": "2023-05-04T08:28:02.114940",
     "exception": false,
     "start_time": "2023-05-04T08:28:02.096712",
     "status": "completed"
    },
    "tags": []
   },
   "source": [
    "<a id=\"6.4\"></a>\n",
    "## <span style=\"color:#08bf2c;\"> Cross-validation score </span>"
   ]
  },
  {
   "cell_type": "code",
   "execution_count": 25,
   "id": "2d5b892d",
   "metadata": {
    "_kg_hide-input": true,
    "execution": {
     "iopub.execute_input": "2023-05-04T08:28:02.154841Z",
     "iopub.status.busy": "2023-05-04T08:28:02.154399Z",
     "iopub.status.idle": "2023-05-04T08:28:19.032382Z",
     "shell.execute_reply": "2023-05-04T08:28:19.030690Z"
    },
    "jupyter": {
     "source_hidden": true
    },
    "papermill": {
     "duration": 16.901813,
     "end_time": "2023-05-04T08:28:19.035387",
     "exception": false,
     "start_time": "2023-05-04T08:28:02.133574",
     "status": "completed"
    },
    "tags": []
   },
   "outputs": [
    {
     "name": "stdout",
     "output_type": "stream",
     "text": [
      "\u001b[92m\n",
      "Cross-validation roc_auc score : 0.8774579412937891\n",
      "Cross-validation accuracy score : 0.8226978846274559\n"
     ]
    }
   ],
   "source": [
    "print(f'\\033[92m')\n",
    "print(\"Cross-validation roc_auc score :\",cross_val_score(model, X, y, cv=5, scoring='roc_auc').mean())\n",
    "print(\"Cross-validation accuracy score :\",cross_val_score(model, X, y, cv=5, scoring='accuracy').mean())"
   ]
  },
  {
   "cell_type": "markdown",
   "id": "9187bbd7",
   "metadata": {
    "papermill": {
     "duration": 0.018363,
     "end_time": "2023-05-04T08:28:19.072769",
     "exception": false,
     "start_time": "2023-05-04T08:28:19.054406",
     "status": "completed"
    },
    "tags": []
   },
   "source": [
    "<a id=\"6.5\"></a>\n",
    "## <span style=\"color:#08bf2c;\"> Feature importance </span>"
   ]
  },
  {
   "cell_type": "code",
   "execution_count": 26,
   "id": "4d112034",
   "metadata": {
    "_kg_hide-input": true,
    "execution": {
     "iopub.execute_input": "2023-05-04T08:28:19.112180Z",
     "iopub.status.busy": "2023-05-04T08:28:19.111699Z",
     "iopub.status.idle": "2023-05-04T08:28:19.433123Z",
     "shell.execute_reply": "2023-05-04T08:28:19.431629Z"
    },
    "jupyter": {
     "source_hidden": true
    },
    "papermill": {
     "duration": 0.344334,
     "end_time": "2023-05-04T08:28:19.436352",
     "exception": false,
     "start_time": "2023-05-04T08:28:19.092018",
     "status": "completed"
    },
    "tags": []
   },
   "outputs": [
    {
     "data": {
      "image/png": "[encoded data removed]",
      "text/plain": [
       "<Figure size 720x576 with 1 Axes>"
      ]
     },
     "metadata": {
      "needs_background": "light"
     },
     "output_type": "display_data"
    }
   ],
   "source": [
    "plt.figure(figsize=(10,8))\n",
    "fs = pd.Series(model.get_feature_importance(), index=X.columns).sort_values(ascending=False)\n",
    "sns.barplot(x=fs.values, y=fs.index, palette='viridis')\n",
    "plt.title('CatBoostClassifier feature importance')\n",
    "plt.xlabel('Feature importance')\n",
    "plt.ylabel('Reature names')\n",
    "plt.show()"
   ]
  },
  {
   "cell_type": "markdown",
   "id": "861231a2",
   "metadata": {
    "papermill": {
     "duration": 0.01832,
     "end_time": "2023-05-04T08:28:19.473536",
     "exception": false,
     "start_time": "2023-05-04T08:28:19.455216",
     "status": "completed"
    },
    "tags": []
   },
   "source": [
    "<a href=\"#ToC\" role=\"button\" aria-pressed=\"true\" >⬆️Back to Table of Contents ⬆️</a>"
   ]
  },
  {
   "cell_type": "markdown",
   "id": "19bafff9",
   "metadata": {
    "papermill": {
     "duration": 0.01875,
     "end_time": "2023-05-04T08:28:19.511539",
     "exception": false,
     "start_time": "2023-05-04T08:28:19.492789",
     "status": "completed"
    },
    "tags": []
   },
   "source": [
    "<a id=\"7\"></a>\n",
    "# **<div style=\"padding:10px;color:white;display:fill;border-radius:5px;background-color:#5642C5;font-size:120%;font-family:Verdana;\"><center><span> Submission </span></center></div>**"
   ]
  },
  {
   "cell_type": "code",
   "execution_count": 27,
   "id": "7c028f49",
   "metadata": {
    "execution": {
     "iopub.execute_input": "2023-05-04T08:28:19.552062Z",
     "iopub.status.busy": "2023-05-04T08:28:19.551438Z",
     "iopub.status.idle": "2023-05-04T08:28:21.456019Z",
     "shell.execute_reply": "2023-05-04T08:28:21.454712Z"
    },
    "papermill": {
     "duration": 1.928716,
     "end_time": "2023-05-04T08:28:21.458778",
     "exception": false,
     "start_time": "2023-05-04T08:28:19.530062",
     "status": "completed"
    },
    "tags": []
   },
   "outputs": [
    {
     "data": {
      "text/plain": [
       "<catboost.core.CatBoostClassifier at 0x7daa6d251dd0>"
      ]
     },
     "execution_count": 27,
     "metadata": {},
     "output_type": "execute_result"
    }
   ],
   "source": [
    "# model fitting full data\n",
    "model = CatBoostClassifier(verbose=False, random_state=18)\n",
    "model.fit(X,y)"
   ]
  },
  {
   "cell_type": "code",
   "execution_count": 28,
   "id": "edf0ab15",
   "metadata": {
    "execution": {
     "iopub.execute_input": "2023-05-04T08:28:21.499687Z",
     "iopub.status.busy": "2023-05-04T08:28:21.499219Z",
     "iopub.status.idle": "2023-05-04T08:28:21.522910Z",
     "shell.execute_reply": "2023-05-04T08:28:21.521477Z"
    },
    "papermill": {
     "duration": 0.047534,
     "end_time": "2023-05-04T08:28:21.525589",
     "exception": false,
     "start_time": "2023-05-04T08:28:21.478055",
     "status": "completed"
    },
    "tags": []
   },
   "outputs": [
    {
     "data": {
      "text/html": [
       "<div>\n",
       "<style scoped>\n",
       "    .dataframe tbody tr th:only-of-type {\n",
       "        vertical-align: middle;\n",
       "    }\n",
       "\n",
       "    .dataframe tbody tr th {\n",
       "        vertical-align: top;\n",
       "    }\n",
       "\n",
       "    .dataframe thead th {\n",
       "        text-align: right;\n",
       "    }\n",
       "</style>\n",
       "<table border=\"1\" class=\"dataframe\">\n",
       "  <thead>\n",
       "    <tr style=\"text-align: right;\">\n",
       "      <th></th>\n",
       "      <th>Survived</th>\n",
       "    </tr>\n",
       "    <tr>\n",
       "      <th>PassengerId</th>\n",
       "      <th></th>\n",
       "    </tr>\n",
       "  </thead>\n",
       "  <tbody>\n",
       "    <tr>\n",
       "      <th>892</th>\n",
       "      <td>0</td>\n",
       "    </tr>\n",
       "    <tr>\n",
       "      <th>893</th>\n",
       "      <td>0</td>\n",
       "    </tr>\n",
       "    <tr>\n",
       "      <th>894</th>\n",
       "      <td>0</td>\n",
       "    </tr>\n",
       "    <tr>\n",
       "      <th>895</th>\n",
       "      <td>0</td>\n",
       "    </tr>\n",
       "    <tr>\n",
       "      <th>896</th>\n",
       "      <td>0</td>\n",
       "    </tr>\n",
       "    <tr>\n",
       "      <th>...</th>\n",
       "      <td>...</td>\n",
       "    </tr>\n",
       "    <tr>\n",
       "      <th>1305</th>\n",
       "      <td>0</td>\n",
       "    </tr>\n",
       "    <tr>\n",
       "      <th>1306</th>\n",
       "      <td>1</td>\n",
       "    </tr>\n",
       "    <tr>\n",
       "      <th>1307</th>\n",
       "      <td>0</td>\n",
       "    </tr>\n",
       "    <tr>\n",
       "      <th>1308</th>\n",
       "      <td>0</td>\n",
       "    </tr>\n",
       "    <tr>\n",
       "      <th>1309</th>\n",
       "      <td>0</td>\n",
       "    </tr>\n",
       "  </tbody>\n",
       "</table>\n",
       "<p>418 rows × 1 columns</p>\n",
       "</div>"
      ],
      "text/plain": [
       "             Survived\n",
       "PassengerId          \n",
       "892                 0\n",
       "893                 0\n",
       "894                 0\n",
       "895                 0\n",
       "896                 0\n",
       "...               ...\n",
       "1305                0\n",
       "1306                1\n",
       "1307                0\n",
       "1308                0\n",
       "1309                0\n",
       "\n",
       "[418 rows x 1 columns]"
      ]
     },
     "execution_count": 28,
     "metadata": {},
     "output_type": "execute_result"
    }
   ],
   "source": [
    "# save submission\n",
    "submission.Survived = model.predict(test)\n",
    "submission.to_csv(\"submission.csv\")\n",
    "pd.read_csv(\"submission.csv\", index_col=0)"
   ]
  },
  {
   "cell_type": "markdown",
   "id": "d7a250a1",
   "metadata": {
    "papermill": {
     "duration": 0.019643,
     "end_time": "2023-05-04T08:28:21.566967",
     "exception": false,
     "start_time": "2023-05-04T08:28:21.547324",
     "status": "completed"
    },
    "tags": []
   },
   "source": [
    "<a href=\"#ToC\" role=\"button\" aria-pressed=\"true\" >⬆️Back to Table of Contents ⬆️</a>"
   ]
  },
  {
   "cell_type": "markdown",
   "id": "fa8fa0a1",
   "metadata": {
    "papermill": {
     "duration": 0.01886,
     "end_time": "2023-05-04T08:28:21.605062",
     "exception": false,
     "start_time": "2023-05-04T08:28:21.586202",
     "status": "completed"
    },
    "tags": []
   },
   "source": [
    "<blockquote><p style=\"font-size:15px; color:#159364; font-family:verdana;\">💬Thank you for reading! If you have any feedback or find anything wrong, please let me know!🙂</p></blockquote>"
   ]
  }
 ],
 "metadata": {
  "kernelspec": {
   "display_name": "Python 3",
   "language": "python",
   "name": "python3"
  },
  "language_info": {
   "codemirror_mode": {
    "name": "ipython",
    "version": 3
   },
   "file_extension": ".py",
   "mimetype": "text/x-python",
   "name": "python",
   "nbconvert_exporter": "python",
   "pygments_lexer": "ipython3",
   "version": "3.7.12"
  },
  "papermill": {
   "default_parameters": {},
   "duration": 41.331739,
   "end_time": "2023-05-04T08:28:22.650958",
   "environment_variables": {},
   "exception": null,
   "input_path": "__notebook__.ipynb",
   "output_path": "__notebook__.ipynb",
   "parameters": {},
   "start_time": "2023-05-04T08:27:41.319219",
   "version": "2.3.4"
  }
 },
 "nbformat": 4,
 "nbformat_minor": 5
}
